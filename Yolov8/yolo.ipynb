{
 "cells": [
  {
   "cell_type": "code",
   "execution_count": 1,
   "metadata": {},
   "outputs": [],
   "source": [
    "import torch"
   ]
  },
  {
   "cell_type": "code",
   "execution_count": 2,
   "metadata": {},
   "outputs": [
    {
     "data": {
      "text/plain": [
       "'NVIDIA GeForce RTX 3060'"
      ]
     },
     "execution_count": 2,
     "metadata": {},
     "output_type": "execute_result"
    }
   ],
   "source": [
    "# get index of currently selected device\n",
    "torch.cuda.current_device() # returns 0 in my case\n",
    "\n",
    "# get number of GPUs available\n",
    "torch.cuda.device_count() # returns 1 in my case\n",
    "\n",
    "# get the name of the device\n",
    "torch.cuda.get_device_name(0) "
   ]
  },
  {
   "cell_type": "code",
   "execution_count": 3,
   "metadata": {},
   "outputs": [],
   "source": [
    "from ultralytics import YOLO, settings"
   ]
  },
  {
   "cell_type": "code",
   "execution_count": 4,
   "metadata": {},
   "outputs": [
    {
     "name": "stdout",
     "output_type": "stream",
     "text": [
      "{'settings_version': '0.0.4', 'datasets_dir': '/home/haziq/Documents/VIP-Project/Detection/VOC2007/datasets', 'weights_dir': 'weights', 'runs_dir': 'runs', 'uuid': '80baecf531a97dee47c0ed930b3b766e0654f98df88e09aed9da33b22fe24735', 'sync': True, 'api_key': '', 'openai_api_key': '', 'clearml': True, 'comet': True, 'dvc': True, 'hub': True, 'mlflow': True, 'neptune': True, 'raytune': True, 'tensorboard': True, 'wandb': True}\n"
     ]
    }
   ],
   "source": [
    "print(settings)"
   ]
  },
  {
   "cell_type": "code",
   "execution_count": 5,
   "metadata": {},
   "outputs": [],
   "source": [
    "# Load the model\n",
    "model = YOLO(\"yolov8l.yaml\")"
   ]
  },
  {
   "cell_type": "code",
   "execution_count": 6,
   "metadata": {},
   "outputs": [
    {
     "name": "stdout",
     "output_type": "stream",
     "text": [
      "Ultralytics YOLOv8.1.10 🚀 Python-3.11.6 torch-2.2.0+cu121 CUDA:0 (NVIDIA GeForce RTX 3060, 12043MiB)\n",
      "\u001b[34m\u001b[1mengine/trainer: \u001b[0mtask=detect, mode=train, model=yolov8l.yaml, data=config.yaml, epochs=15, time=None, patience=50, batch=16, imgsz=640, save=True, save_period=-1, cache=False, device=None, workers=8, project=None, name=train, exist_ok=False, pretrained=True, optimizer=auto, verbose=True, seed=0, deterministic=True, single_cls=False, rect=False, cos_lr=False, close_mosaic=10, resume=False, amp=True, fraction=1.0, profile=False, freeze=None, multi_scale=False, overlap_mask=True, mask_ratio=4, dropout=0.0, val=True, split=val, save_json=False, save_hybrid=False, conf=None, iou=0.7, max_det=300, half=False, dnn=False, plots=True, source=None, vid_stride=1, stream_buffer=False, visualize=False, augment=False, agnostic_nms=False, classes=None, retina_masks=False, embed=None, show=False, save_frames=False, save_txt=False, save_conf=False, save_crop=False, show_labels=True, show_conf=True, show_boxes=True, line_width=None, format=torchscript, keras=False, optimize=False, int8=False, dynamic=False, simplify=False, opset=None, workspace=4, nms=False, lr0=0.01, lrf=0.01, momentum=0.937, weight_decay=0.0005, warmup_epochs=3.0, warmup_momentum=0.8, warmup_bias_lr=0.1, box=7.5, cls=0.5, dfl=1.5, pose=12.0, kobj=1.0, label_smoothing=0.0, nbs=64, hsv_h=0.015, hsv_s=0.7, hsv_v=0.4, degrees=0.0, translate=0.1, scale=0.5, shear=0.0, perspective=0.0, flipud=0.0, fliplr=0.5, mosaic=1.0, mixup=0.0, copy_paste=0.0, auto_augment=randaugment, erasing=0.4, crop_fraction=1.0, cfg=None, tracker=botsort.yaml, save_dir=runs/detect/train\n",
      "Overriding model.yaml nc=80 with nc=10\n",
      "\n",
      "                   from  n    params  module                                       arguments                     \n",
      "  0                  -1  1      1856  ultralytics.nn.modules.conv.Conv             [3, 64, 3, 2]                 \n",
      "  1                  -1  1     73984  ultralytics.nn.modules.conv.Conv             [64, 128, 3, 2]               \n",
      "  2                  -1  3    279808  ultralytics.nn.modules.block.C2f             [128, 128, 3, True]           \n",
      "  3                  -1  1    295424  ultralytics.nn.modules.conv.Conv             [128, 256, 3, 2]              \n",
      "  4                  -1  6   2101248  ultralytics.nn.modules.block.C2f             [256, 256, 6, True]           \n",
      "  5                  -1  1   1180672  ultralytics.nn.modules.conv.Conv             [256, 512, 3, 2]              \n",
      "  6                  -1  6   8396800  ultralytics.nn.modules.block.C2f             [512, 512, 6, True]           \n",
      "  7                  -1  1   2360320  ultralytics.nn.modules.conv.Conv             [512, 512, 3, 2]              \n",
      "  8                  -1  3   4461568  ultralytics.nn.modules.block.C2f             [512, 512, 3, True]           \n",
      "  9                  -1  1    656896  ultralytics.nn.modules.block.SPPF            [512, 512, 5]                 \n",
      " 10                  -1  1         0  torch.nn.modules.upsampling.Upsample         [None, 2, 'nearest']          \n",
      " 11             [-1, 6]  1         0  ultralytics.nn.modules.conv.Concat           [1]                           \n",
      " 12                  -1  3   4723712  ultralytics.nn.modules.block.C2f             [1024, 512, 3]                \n",
      " 13                  -1  1         0  torch.nn.modules.upsampling.Upsample         [None, 2, 'nearest']          \n",
      " 14             [-1, 4]  1         0  ultralytics.nn.modules.conv.Concat           [1]                           \n",
      " 15                  -1  3   1247744  ultralytics.nn.modules.block.C2f             [768, 256, 3]                 \n",
      " 16                  -1  1    590336  ultralytics.nn.modules.conv.Conv             [256, 256, 3, 2]              \n",
      " 17            [-1, 12]  1         0  ultralytics.nn.modules.conv.Concat           [1]                           \n",
      " 18                  -1  3   4592640  ultralytics.nn.modules.block.C2f             [768, 512, 3]                 \n",
      " 19                  -1  1   2360320  ultralytics.nn.modules.conv.Conv             [512, 512, 3, 2]              \n",
      " 20             [-1, 9]  1         0  ultralytics.nn.modules.conv.Concat           [1]                           \n",
      " 21                  -1  3   4723712  ultralytics.nn.modules.block.C2f             [1024, 512, 3]                \n",
      " 22        [15, 18, 21]  1   5590510  ultralytics.nn.modules.head.Detect           [10, [256, 512, 512]]         \n",
      "YOLOv8l summary: 365 layers, 43637550 parameters, 43637534 gradients, 165.4 GFLOPs\n",
      "\n",
      "Freezing layer 'model.22.dfl.conv.weight'\n",
      "\u001b[34m\u001b[1mAMP: \u001b[0mrunning Automatic Mixed Precision (AMP) checks with YOLOv8n...\n",
      "\u001b[34m\u001b[1mAMP: \u001b[0mchecks passed ✅\n"
     ]
    },
    {
     "name": "stderr",
     "output_type": "stream",
     "text": [
      "\u001b[34m\u001b[1mtrain: \u001b[0mScanning /home/haziq/Documents/VIP-Project/Detection/VOC2007/yolo-dataset/labels/train.cache... 740 images, 0 backgrounds, 0 corrupt: 100%|██████████| 740/740 [00:00<?, ?it/s]\n",
      "\u001b[34m\u001b[1mval: \u001b[0mScanning /home/haziq/Documents/VIP-Project/Detection/VOC2007/yolo-dataset/labels/train.cache... 740 images, 0 backgrounds, 0 corrupt: 100%|██████████| 740/740 [00:00<?, ?it/s]\n"
     ]
    },
    {
     "name": "stdout",
     "output_type": "stream",
     "text": [
      "Plotting labels to runs/detect/train/labels.jpg... \n",
      "\u001b[34m\u001b[1moptimizer:\u001b[0m 'optimizer=auto' found, ignoring 'lr0=0.01' and 'momentum=0.937' and determining best 'optimizer', 'lr0' and 'momentum' automatically... \n",
      "\u001b[34m\u001b[1moptimizer:\u001b[0m AdamW(lr=0.000714, momentum=0.9) with parameter groups 97 weight(decay=0.0), 104 weight(decay=0.0005), 103 bias(decay=0.0)\n",
      "Image sizes 640 train, 640 val\n",
      "Using 4 dataloader workers\n",
      "Logging results to \u001b[1mruns/detect/train\u001b[0m\n",
      "Starting training for 15 epochs...\n",
      "\n",
      "      Epoch    GPU_mem   box_loss   cls_loss   dfl_loss  Instances       Size\n"
     ]
    },
    {
     "name": "stderr",
     "output_type": "stream",
     "text": [
      "       1/15      10.1G      3.239      4.703      4.197         17        640: 100%|██████████| 47/47 [00:32<00:00,  1.44it/s]\n",
      "                 Class     Images  Instances      Box(P          R      mAP50  mAP50-95): 100%|██████████| 24/24 [00:10<00:00,  2.20it/s]"
     ]
    },
    {
     "name": "stdout",
     "output_type": "stream",
     "text": [
      "                   all        740        777    0.00142      0.427    0.00421    0.00141\n"
     ]
    },
    {
     "name": "stderr",
     "output_type": "stream",
     "text": [
      "\n"
     ]
    },
    {
     "name": "stdout",
     "output_type": "stream",
     "text": [
      "\n",
      "      Epoch    GPU_mem   box_loss   cls_loss   dfl_loss  Instances       Size\n"
     ]
    },
    {
     "name": "stderr",
     "output_type": "stream",
     "text": [
      "       2/15      10.5G      3.071       4.32       3.87         10        640: 100%|██████████| 47/47 [00:31<00:00,  1.49it/s]\n",
      "                 Class     Images  Instances      Box(P          R      mAP50  mAP50-95): 100%|██████████| 24/24 [00:10<00:00,  2.33it/s]"
     ]
    },
    {
     "name": "stdout",
     "output_type": "stream",
     "text": [
      "                   all        740        777    0.00455      0.581     0.0118    0.00315\n"
     ]
    },
    {
     "name": "stderr",
     "output_type": "stream",
     "text": [
      "\n"
     ]
    },
    {
     "name": "stdout",
     "output_type": "stream",
     "text": [
      "\n",
      "      Epoch    GPU_mem   box_loss   cls_loss   dfl_loss  Instances       Size\n"
     ]
    },
    {
     "name": "stderr",
     "output_type": "stream",
     "text": [
      "       3/15      10.5G      2.824      4.196      3.571         12        640: 100%|██████████| 47/47 [00:31<00:00,  1.49it/s]\n",
      "                 Class     Images  Instances      Box(P          R      mAP50  mAP50-95): 100%|██████████| 24/24 [00:11<00:00,  2.04it/s]\n"
     ]
    },
    {
     "name": "stdout",
     "output_type": "stream",
     "text": [
      "                   all        740        777      0.709     0.0237    0.00869    0.00207\n",
      "\n",
      "      Epoch    GPU_mem   box_loss   cls_loss   dfl_loss  Instances       Size\n"
     ]
    },
    {
     "name": "stderr",
     "output_type": "stream",
     "text": [
      "       4/15      10.6G      2.625      3.956       3.29         11        640: 100%|██████████| 47/47 [00:31<00:00,  1.50it/s]\n",
      "                 Class     Images  Instances      Box(P          R      mAP50  mAP50-95): 100%|██████████| 24/24 [00:10<00:00,  2.35it/s]"
     ]
    },
    {
     "name": "stdout",
     "output_type": "stream",
     "text": [
      "                   all        740        777    0.00351      0.168    0.00488    0.00119\n"
     ]
    },
    {
     "name": "stderr",
     "output_type": "stream",
     "text": [
      "\n"
     ]
    },
    {
     "name": "stdout",
     "output_type": "stream",
     "text": [
      "\n",
      "      Epoch    GPU_mem   box_loss   cls_loss   dfl_loss  Instances       Size\n"
     ]
    },
    {
     "name": "stderr",
     "output_type": "stream",
     "text": [
      "       5/15      10.9G      2.551      3.724      3.117          7        640: 100%|██████████| 47/47 [00:31<00:00,  1.50it/s]\n",
      "                 Class     Images  Instances      Box(P          R      mAP50  mAP50-95): 100%|██████████| 24/24 [00:10<00:00,  2.28it/s]\n"
     ]
    },
    {
     "name": "stdout",
     "output_type": "stream",
     "text": [
      "                   all        740        777    0.00243      0.601    0.00873    0.00248\n",
      "Closing dataloader mosaic\n",
      "\n",
      "      Epoch    GPU_mem   box_loss   cls_loss   dfl_loss  Instances       Size\n"
     ]
    },
    {
     "name": "stderr",
     "output_type": "stream",
     "text": [
      "       6/15      10.9G      2.283      3.737       3.02          5        640: 100%|██████████| 47/47 [00:31<00:00,  1.48it/s]\n",
      "                 Class     Images  Instances      Box(P          R      mAP50  mAP50-95): 100%|██████████| 24/24 [00:10<00:00,  2.32it/s]"
     ]
    },
    {
     "name": "stdout",
     "output_type": "stream",
     "text": [
      "                   all        740        777      0.643     0.0985     0.0581     0.0192\n"
     ]
    },
    {
     "name": "stderr",
     "output_type": "stream",
     "text": [
      "\n"
     ]
    },
    {
     "name": "stdout",
     "output_type": "stream",
     "text": [
      "\n",
      "      Epoch    GPU_mem   box_loss   cls_loss   dfl_loss  Instances       Size\n"
     ]
    },
    {
     "name": "stderr",
     "output_type": "stream",
     "text": [
      "       7/15      10.5G      2.205      3.402      2.859          4        640: 100%|██████████| 47/47 [00:31<00:00,  1.50it/s]\n",
      "                 Class     Images  Instances      Box(P          R      mAP50  mAP50-95): 100%|██████████| 24/24 [00:10<00:00,  2.33it/s]"
     ]
    },
    {
     "name": "stdout",
     "output_type": "stream",
     "text": [
      "                   all        740        777      0.499       0.21     0.0773     0.0267\n"
     ]
    },
    {
     "name": "stderr",
     "output_type": "stream",
     "text": [
      "\n"
     ]
    },
    {
     "name": "stdout",
     "output_type": "stream",
     "text": [
      "\n",
      "      Epoch    GPU_mem   box_loss   cls_loss   dfl_loss  Instances       Size\n"
     ]
    },
    {
     "name": "stderr",
     "output_type": "stream",
     "text": [
      "       8/15      10.6G      2.169       3.16      2.809          5        640: 100%|██████████| 47/47 [00:31<00:00,  1.49it/s]\n",
      "                 Class     Images  Instances      Box(P          R      mAP50  mAP50-95): 100%|██████████| 24/24 [00:10<00:00,  2.32it/s]"
     ]
    },
    {
     "name": "stdout",
     "output_type": "stream",
     "text": [
      "                   all        740        777      0.386      0.221      0.067     0.0224\n"
     ]
    },
    {
     "name": "stderr",
     "output_type": "stream",
     "text": [
      "\n"
     ]
    },
    {
     "name": "stdout",
     "output_type": "stream",
     "text": [
      "\n",
      "      Epoch    GPU_mem   box_loss   cls_loss   dfl_loss  Instances       Size\n"
     ]
    },
    {
     "name": "stderr",
     "output_type": "stream",
     "text": [
      "       9/15      10.5G      2.096      3.063      2.743          5        640: 100%|██████████| 47/47 [00:31<00:00,  1.49it/s]\n",
      "                 Class     Images  Instances      Box(P          R      mAP50  mAP50-95): 100%|██████████| 24/24 [00:10<00:00,  2.37it/s]"
     ]
    },
    {
     "name": "stdout",
     "output_type": "stream",
     "text": [
      "                   all        740        777       0.35      0.268     0.0617     0.0228\n"
     ]
    },
    {
     "name": "stderr",
     "output_type": "stream",
     "text": [
      "\n"
     ]
    },
    {
     "name": "stdout",
     "output_type": "stream",
     "text": [
      "\n",
      "      Epoch    GPU_mem   box_loss   cls_loss   dfl_loss  Instances       Size\n"
     ]
    },
    {
     "name": "stderr",
     "output_type": "stream",
     "text": [
      "      10/15      10.5G      2.042      2.886      2.641          4        640: 100%|██████████| 47/47 [00:31<00:00,  1.50it/s]\n",
      "                 Class     Images  Instances      Box(P          R      mAP50  mAP50-95): 100%|██████████| 24/24 [00:10<00:00,  2.34it/s]"
     ]
    },
    {
     "name": "stdout",
     "output_type": "stream",
     "text": [
      "                   all        740        777      0.469      0.183      0.117     0.0442\n"
     ]
    },
    {
     "name": "stderr",
     "output_type": "stream",
     "text": [
      "\n"
     ]
    },
    {
     "name": "stdout",
     "output_type": "stream",
     "text": [
      "\n",
      "      Epoch    GPU_mem   box_loss   cls_loss   dfl_loss  Instances       Size\n"
     ]
    },
    {
     "name": "stderr",
     "output_type": "stream",
     "text": [
      "      11/15      10.5G      2.015      2.821      2.612          4        640: 100%|██████████| 47/47 [00:31<00:00,  1.52it/s]\n",
      "                 Class     Images  Instances      Box(P          R      mAP50  mAP50-95): 100%|██████████| 24/24 [00:10<00:00,  2.35it/s]"
     ]
    },
    {
     "name": "stdout",
     "output_type": "stream",
     "text": [
      "                   all        740        777       0.49       0.23      0.123      0.052\n"
     ]
    },
    {
     "name": "stderr",
     "output_type": "stream",
     "text": [
      "\n"
     ]
    },
    {
     "name": "stdout",
     "output_type": "stream",
     "text": [
      "\n",
      "      Epoch    GPU_mem   box_loss   cls_loss   dfl_loss  Instances       Size\n"
     ]
    },
    {
     "name": "stderr",
     "output_type": "stream",
     "text": [
      "      12/15      10.5G      1.909      2.725      2.554          5        640: 100%|██████████| 47/47 [00:31<00:00,  1.51it/s]\n",
      "                 Class     Images  Instances      Box(P          R      mAP50  mAP50-95): 100%|██████████| 24/24 [00:10<00:00,  2.35it/s]"
     ]
    },
    {
     "name": "stdout",
     "output_type": "stream",
     "text": [
      "                   all        740        777      0.426       0.29      0.146     0.0604\n"
     ]
    },
    {
     "name": "stderr",
     "output_type": "stream",
     "text": [
      "\n"
     ]
    },
    {
     "name": "stdout",
     "output_type": "stream",
     "text": [
      "\n",
      "      Epoch    GPU_mem   box_loss   cls_loss   dfl_loss  Instances       Size\n"
     ]
    },
    {
     "name": "stderr",
     "output_type": "stream",
     "text": [
      "      13/15      10.6G      1.908      2.684      2.527          4        640: 100%|██████████| 47/47 [00:31<00:00,  1.51it/s]\n",
      "                 Class     Images  Instances      Box(P          R      mAP50  mAP50-95): 100%|██████████| 24/24 [00:10<00:00,  2.35it/s]"
     ]
    },
    {
     "name": "stdout",
     "output_type": "stream",
     "text": [
      "                   all        740        777      0.425      0.287      0.154     0.0645\n"
     ]
    },
    {
     "name": "stderr",
     "output_type": "stream",
     "text": [
      "\n"
     ]
    },
    {
     "name": "stdout",
     "output_type": "stream",
     "text": [
      "\n",
      "      Epoch    GPU_mem   box_loss   cls_loss   dfl_loss  Instances       Size\n"
     ]
    },
    {
     "name": "stderr",
     "output_type": "stream",
     "text": [
      "      14/15      10.5G        1.9        2.6      2.509          4        640: 100%|██████████| 47/47 [00:31<00:00,  1.51it/s]\n",
      "                 Class     Images  Instances      Box(P          R      mAP50  mAP50-95): 100%|██████████| 24/24 [00:10<00:00,  2.35it/s]"
     ]
    },
    {
     "name": "stdout",
     "output_type": "stream",
     "text": [
      "                   all        740        777      0.458      0.314      0.176     0.0774\n"
     ]
    },
    {
     "name": "stderr",
     "output_type": "stream",
     "text": [
      "\n"
     ]
    },
    {
     "name": "stdout",
     "output_type": "stream",
     "text": [
      "\n",
      "      Epoch    GPU_mem   box_loss   cls_loss   dfl_loss  Instances       Size\n"
     ]
    },
    {
     "name": "stderr",
     "output_type": "stream",
     "text": [
      "      15/15      10.5G      1.843      2.553      2.484          4        640: 100%|██████████| 47/47 [00:31<00:00,  1.51it/s]\n",
      "                 Class     Images  Instances      Box(P          R      mAP50  mAP50-95): 100%|██████████| 24/24 [00:10<00:00,  2.35it/s]"
     ]
    },
    {
     "name": "stdout",
     "output_type": "stream",
     "text": [
      "                   all        740        777       0.47       0.32      0.192     0.0915\n"
     ]
    },
    {
     "name": "stderr",
     "output_type": "stream",
     "text": [
      "\n"
     ]
    },
    {
     "name": "stdout",
     "output_type": "stream",
     "text": [
      "\n",
      "15 epochs completed in 0.183 hours.\n",
      "Optimizer stripped from runs/detect/train/weights/last.pt, 87.6MB\n",
      "Optimizer stripped from runs/detect/train/weights/best.pt, 87.6MB\n",
      "\n",
      "Validating runs/detect/train/weights/best.pt...\n",
      "Ultralytics YOLOv8.1.10 🚀 Python-3.11.6 torch-2.2.0+cu121 CUDA:0 (NVIDIA GeForce RTX 3060, 12043MiB)\n",
      "YOLOv8l summary (fused): 268 layers, 43614318 parameters, 0 gradients, 164.9 GFLOPs\n"
     ]
    },
    {
     "name": "stderr",
     "output_type": "stream",
     "text": [
      "                 Class     Images  Instances      Box(P          R      mAP50  mAP50-95): 100%|██████████| 24/24 [00:09<00:00,  2.40it/s]\n"
     ]
    },
    {
     "name": "stdout",
     "output_type": "stream",
     "text": [
      "                   all        740        777      0.469       0.32      0.191     0.0913\n",
      "                     0        740        167       0.26      0.689       0.41      0.225\n",
      "                     1        740        109      0.317     0.0183      0.124      0.051\n",
      "                     2        740          7          1          0     0.0418     0.0164\n",
      "                     3        740        158      0.274      0.563      0.282      0.126\n",
      "                     4        740         63        0.3      0.476      0.298      0.157\n",
      "                     5        740         76      0.207      0.632      0.246       0.09\n",
      "                     6        740         10          1          0     0.0713     0.0474\n",
      "                     7        740         94      0.171      0.543      0.191     0.0772\n",
      "                     8        740         60      0.158      0.283      0.178     0.0845\n",
      "                     9        740         33          1          0     0.0715     0.0388\n",
      "Speed: 0.2ms preprocess, 10.7ms inference, 0.0ms loss, 0.7ms postprocess per image\n",
      "Results saved to \u001b[1mruns/detect/train\u001b[0m\n"
     ]
    }
   ],
   "source": [
    "results = model.train(data=\"config.yaml\", epochs=15)"
   ]
  },
  {
   "cell_type": "code",
   "execution_count": 7,
   "metadata": {},
   "outputs": [
    {
     "name": "stdout",
     "output_type": "stream",
     "text": [
      "\n",
      "image 1/740 /home/haziq/Documents/VIP-Project/Detection/VOC2007/yolo-dataset/images/train/IP000000100.jpg: 480x640 (no detections), 155.5ms\n",
      "image 2/740 /home/haziq/Documents/VIP-Project/Detection/VOC2007/yolo-dataset/images/train/IP000000107.jpg: 480x640 (no detections), 21.2ms\n",
      "image 3/740 /home/haziq/Documents/VIP-Project/Detection/VOC2007/yolo-dataset/images/train/IP000000108.jpg: 448x640 (no detections), 150.0ms\n",
      "image 4/740 /home/haziq/Documents/VIP-Project/Detection/VOC2007/yolo-dataset/images/train/IP000000110.jpg: 416x640 (no detections), 147.4ms\n",
      "image 5/740 /home/haziq/Documents/VIP-Project/Detection/VOC2007/yolo-dataset/images/train/IP000000114.jpg: 480x640 (no detections), 22.5ms\n",
      "image 6/740 /home/haziq/Documents/VIP-Project/Detection/VOC2007/yolo-dataset/images/train/IP000000115.jpg: 416x640 (no detections), 20.8ms\n",
      "image 7/740 /home/haziq/Documents/VIP-Project/Detection/VOC2007/yolo-dataset/images/train/IP000000121.jpg: 640x640 (no detections), 27.2ms\n",
      "image 8/740 /home/haziq/Documents/VIP-Project/Detection/VOC2007/yolo-dataset/images/train/IP000000125.jpg: 480x640 (no detections), 22.6ms\n",
      "image 9/740 /home/haziq/Documents/VIP-Project/Detection/VOC2007/yolo-dataset/images/train/IP000000134.jpg: 448x640 (no detections), 21.4ms\n",
      "image 10/740 /home/haziq/Documents/VIP-Project/Detection/VOC2007/yolo-dataset/images/train/IP000000150.jpg: 384x640 (no detections), 146.9ms\n",
      "image 11/740 /home/haziq/Documents/VIP-Project/Detection/VOC2007/yolo-dataset/images/train/IP000000168.jpg: 512x640 (no detections), 150.1ms\n",
      "image 12/740 /home/haziq/Documents/VIP-Project/Detection/VOC2007/yolo-dataset/images/train/IP000000169.jpg: 448x640 (no detections), 21.3ms\n",
      "image 13/740 /home/haziq/Documents/VIP-Project/Detection/VOC2007/yolo-dataset/images/train/IP000000177.jpg: 416x640 (no detections), 21.4ms\n",
      "image 14/740 /home/haziq/Documents/VIP-Project/Detection/VOC2007/yolo-dataset/images/train/IP000000190.jpg: 448x640 (no detections), 21.2ms\n",
      "image 15/740 /home/haziq/Documents/VIP-Project/Detection/VOC2007/yolo-dataset/images/train/IP000000200.jpg: 480x640 (no detections), 22.7ms\n",
      "image 16/740 /home/haziq/Documents/VIP-Project/Detection/VOC2007/yolo-dataset/images/train/IP000000205.jpg: 480x640 (no detections), 21.5ms\n",
      "image 17/740 /home/haziq/Documents/VIP-Project/Detection/VOC2007/yolo-dataset/images/train/IP000000209.jpg: 416x640 (no detections), 21.6ms\n",
      "image 18/740 /home/haziq/Documents/VIP-Project/Detection/VOC2007/yolo-dataset/images/train/IP000000212.jpg: 480x640 (no detections), 20.8ms\n",
      "image 19/740 /home/haziq/Documents/VIP-Project/Detection/VOC2007/yolo-dataset/images/train/IP000000216.jpg: 480x640 (no detections), 20.3ms\n",
      "image 20/740 /home/haziq/Documents/VIP-Project/Detection/VOC2007/yolo-dataset/images/train/IP000000225.jpg: 640x640 (no detections), 26.5ms\n",
      "image 21/740 /home/haziq/Documents/VIP-Project/Detection/VOC2007/yolo-dataset/images/train/IP000000227.jpg: 448x640 (no detections), 19.8ms\n",
      "image 22/740 /home/haziq/Documents/VIP-Project/Detection/VOC2007/yolo-dataset/images/train/IP000000249.jpg: 416x640 (no detections), 19.9ms\n",
      "image 23/740 /home/haziq/Documents/VIP-Project/Detection/VOC2007/yolo-dataset/images/train/IP000000253.jpg: 416x640 (no detections), 18.6ms\n",
      "image 24/740 /home/haziq/Documents/VIP-Project/Detection/VOC2007/yolo-dataset/images/train/IP000000257.jpg: 448x640 (no detections), 20.7ms\n",
      "image 25/740 /home/haziq/Documents/VIP-Project/Detection/VOC2007/yolo-dataset/images/train/IP000000272.jpg: 480x640 (no detections), 21.8ms\n",
      "image 26/740 /home/haziq/Documents/VIP-Project/Detection/VOC2007/yolo-dataset/images/train/IP000000274.jpg: 640x576 1 0, 154.9ms\n",
      "image 27/740 /home/haziq/Documents/VIP-Project/Detection/VOC2007/yolo-dataset/images/train/IP000000278.jpg: 448x640 1 0, 20.8ms\n",
      "image 28/740 /home/haziq/Documents/VIP-Project/Detection/VOC2007/yolo-dataset/images/train/IP000000279.jpg: 640x640 (no detections), 26.0ms\n",
      "image 29/740 /home/haziq/Documents/VIP-Project/Detection/VOC2007/yolo-dataset/images/train/IP000000280.jpg: 448x640 (no detections), 19.7ms\n",
      "image 30/740 /home/haziq/Documents/VIP-Project/Detection/VOC2007/yolo-dataset/images/train/IP000000281.jpg: 448x640 (no detections), 19.3ms\n",
      "image 31/740 /home/haziq/Documents/VIP-Project/Detection/VOC2007/yolo-dataset/images/train/IP000000283.jpg: 448x640 (no detections), 19.6ms\n",
      "image 32/740 /home/haziq/Documents/VIP-Project/Detection/VOC2007/yolo-dataset/images/train/IP000000285.jpg: 576x640 1 0, 147.1ms\n",
      "image 33/740 /home/haziq/Documents/VIP-Project/Detection/VOC2007/yolo-dataset/images/train/IP000000289.jpg: 640x640 1 0, 26.8ms\n",
      "image 34/740 /home/haziq/Documents/VIP-Project/Detection/VOC2007/yolo-dataset/images/train/IP000000290.jpg: 640x352 (no detections), 153.1ms\n",
      "image 35/740 /home/haziq/Documents/VIP-Project/Detection/VOC2007/yolo-dataset/images/train/IP000000291.jpg: 544x640 1 0, 148.1ms\n",
      "image 36/740 /home/haziq/Documents/VIP-Project/Detection/VOC2007/yolo-dataset/images/train/IP000000293.jpg: 416x640 (no detections), 20.5ms\n",
      "image 37/740 /home/haziq/Documents/VIP-Project/Detection/VOC2007/yolo-dataset/images/train/IP000000298.jpg: 480x640 (no detections), 20.8ms\n",
      "image 38/740 /home/haziq/Documents/VIP-Project/Detection/VOC2007/yolo-dataset/images/train/IP000000300.jpg: 640x576 1 0, 24.4ms\n",
      "image 39/740 /home/haziq/Documents/VIP-Project/Detection/VOC2007/yolo-dataset/images/train/IP000000302.jpg: 480x640 (no detections), 21.5ms\n",
      "image 40/740 /home/haziq/Documents/VIP-Project/Detection/VOC2007/yolo-dataset/images/train/IP000000303.jpg: 384x640 (no detections), 18.5ms\n",
      "image 41/740 /home/haziq/Documents/VIP-Project/Detection/VOC2007/yolo-dataset/images/train/IP000000304.jpg: 640x640 (no detections), 27.1ms\n",
      "image 42/740 /home/haziq/Documents/VIP-Project/Detection/VOC2007/yolo-dataset/images/train/IP000000305.jpg: 512x640 (no detections), 23.2ms\n",
      "image 43/740 /home/haziq/Documents/VIP-Project/Detection/VOC2007/yolo-dataset/images/train/IP000000306.jpg: 544x640 (no detections), 24.7ms\n",
      "image 44/740 /home/haziq/Documents/VIP-Project/Detection/VOC2007/yolo-dataset/images/train/IP000000307.jpg: 608x640 1 0, 149.5ms\n",
      "image 45/740 /home/haziq/Documents/VIP-Project/Detection/VOC2007/yolo-dataset/images/train/IP000000308.jpg: 640x544 (no detections), 151.8ms\n",
      "image 46/740 /home/haziq/Documents/VIP-Project/Detection/VOC2007/yolo-dataset/images/train/IP000000309.jpg: 416x640 1 0, 20.2ms\n",
      "image 47/740 /home/haziq/Documents/VIP-Project/Detection/VOC2007/yolo-dataset/images/train/IP000000311.jpg: 448x640 (no detections), 19.9ms\n",
      "image 48/740 /home/haziq/Documents/VIP-Project/Detection/VOC2007/yolo-dataset/images/train/IP000000312.jpg: 448x640 (no detections), 18.9ms\n",
      "image 49/740 /home/haziq/Documents/VIP-Project/Detection/VOC2007/yolo-dataset/images/train/IP000000314.jpg: 480x640 (no detections), 20.6ms\n",
      "image 50/740 /home/haziq/Documents/VIP-Project/Detection/VOC2007/yolo-dataset/images/train/IP000000318.jpg: 640x608 (no detections), 147.7ms\n",
      "image 51/740 /home/haziq/Documents/VIP-Project/Detection/VOC2007/yolo-dataset/images/train/IP000000319.jpg: 448x640 (no detections), 20.2ms\n",
      "image 52/740 /home/haziq/Documents/VIP-Project/Detection/VOC2007/yolo-dataset/images/train/IP000000320.jpg: 480x640 (no detections), 20.9ms\n",
      "image 53/740 /home/haziq/Documents/VIP-Project/Detection/VOC2007/yolo-dataset/images/train/IP000000321.jpg: 512x640 (no detections), 22.9ms\n",
      "image 54/740 /home/haziq/Documents/VIP-Project/Detection/VOC2007/yolo-dataset/images/train/IP000000322.jpg: 480x640 (no detections), 21.3ms\n",
      "image 55/740 /home/haziq/Documents/VIP-Project/Detection/VOC2007/yolo-dataset/images/train/IP000000352.jpg: 384x640 (no detections), 18.6ms\n",
      "image 56/740 /home/haziq/Documents/VIP-Project/Detection/VOC2007/yolo-dataset/images/train/IP000000353.jpg: 480x640 (no detections), 21.7ms\n",
      "image 57/740 /home/haziq/Documents/VIP-Project/Detection/VOC2007/yolo-dataset/images/train/IP000000354.jpg: 448x640 (no detections), 20.5ms\n",
      "image 58/740 /home/haziq/Documents/VIP-Project/Detection/VOC2007/yolo-dataset/images/train/IP000000375.jpg: 480x640 (no detections), 21.3ms\n",
      "image 59/740 /home/haziq/Documents/VIP-Project/Detection/VOC2007/yolo-dataset/images/train/IP000000377.jpg: 640x448 (no detections), 149.4ms\n",
      "image 60/740 /home/haziq/Documents/VIP-Project/Detection/VOC2007/yolo-dataset/images/train/IP000000378.jpg: 480x640 (no detections), 21.3ms\n",
      "image 61/740 /home/haziq/Documents/VIP-Project/Detection/VOC2007/yolo-dataset/images/train/IP000000383.jpg: 608x640 (no detections), 25.1ms\n",
      "image 62/740 /home/haziq/Documents/VIP-Project/Detection/VOC2007/yolo-dataset/images/train/IP000000388.jpg: 640x320 (no detections), 157.2ms\n",
      "image 63/740 /home/haziq/Documents/VIP-Project/Detection/VOC2007/yolo-dataset/images/train/IP000000389.jpg: 640x544 (no detections), 24.1ms\n",
      "image 64/740 /home/haziq/Documents/VIP-Project/Detection/VOC2007/yolo-dataset/images/train/IP000000390.jpg: 416x640 (no detections), 22.4ms\n",
      "image 65/740 /home/haziq/Documents/VIP-Project/Detection/VOC2007/yolo-dataset/images/train/IP000000392.jpg: 640x640 (no detections), 26.0ms\n",
      "image 66/740 /home/haziq/Documents/VIP-Project/Detection/VOC2007/yolo-dataset/images/train/IP000000406.jpg: 640x640 1 0, 25.0ms\n",
      "image 67/740 /home/haziq/Documents/VIP-Project/Detection/VOC2007/yolo-dataset/images/train/IP000000409.jpg: 448x640 (no detections), 19.6ms\n",
      "image 68/740 /home/haziq/Documents/VIP-Project/Detection/VOC2007/yolo-dataset/images/train/IP000000432.jpg: 544x640 (no detections), 24.6ms\n",
      "image 69/740 /home/haziq/Documents/VIP-Project/Detection/VOC2007/yolo-dataset/images/train/IP000000443.jpg: 384x640 (no detections), 21.2ms\n",
      "image 70/740 /home/haziq/Documents/VIP-Project/Detection/VOC2007/yolo-dataset/images/train/IP000000446.jpg: 480x640 (no detections), 21.1ms\n",
      "image 71/740 /home/haziq/Documents/VIP-Project/Detection/VOC2007/yolo-dataset/images/train/IP000000466.jpg: 640x640 1 0, 25.9ms\n",
      "image 72/740 /home/haziq/Documents/VIP-Project/Detection/VOC2007/yolo-dataset/images/train/IP000000474.jpg: 640x640 (no detections), 24.7ms\n",
      "image 73/740 /home/haziq/Documents/VIP-Project/Detection/VOC2007/yolo-dataset/images/train/IP000000488.jpg: 416x640 (no detections), 20.3ms\n",
      "image 74/740 /home/haziq/Documents/VIP-Project/Detection/VOC2007/yolo-dataset/images/train/IP000000490.jpg: 480x640 (no detections), 22.2ms\n",
      "image 75/740 /home/haziq/Documents/VIP-Project/Detection/VOC2007/yolo-dataset/images/train/IP000000502.jpg: 544x640 (no detections), 24.8ms\n",
      "image 76/740 /home/haziq/Documents/VIP-Project/Detection/VOC2007/yolo-dataset/images/train/IP000000523.jpg: 480x640 (no detections), 20.5ms\n",
      "image 77/740 /home/haziq/Documents/VIP-Project/Detection/VOC2007/yolo-dataset/images/train/IP000000532.jpg: 640x576 1 0, 24.5ms\n",
      "image 78/740 /home/haziq/Documents/VIP-Project/Detection/VOC2007/yolo-dataset/images/train/IP000000533.jpg: 640x352 (no detections), 21.3ms\n",
      "image 79/740 /home/haziq/Documents/VIP-Project/Detection/VOC2007/yolo-dataset/images/train/IP000000537.jpg: 640x640 1 0, 26.3ms\n",
      "image 80/740 /home/haziq/Documents/VIP-Project/Detection/VOC2007/yolo-dataset/images/train/IP000000538.jpg: 640x640 (no detections), 24.3ms\n",
      "image 81/740 /home/haziq/Documents/VIP-Project/Detection/VOC2007/yolo-dataset/images/train/IP000000539.jpg: 640x608 1 0, 25.3ms\n",
      "image 82/740 /home/haziq/Documents/VIP-Project/Detection/VOC2007/yolo-dataset/images/train/IP000000544.jpg: 640x640 (no detections), 25.5ms\n",
      "image 83/740 /home/haziq/Documents/VIP-Project/Detection/VOC2007/yolo-dataset/images/train/IP000000546.jpg: 448x640 (no detections), 20.4ms\n",
      "image 84/740 /home/haziq/Documents/VIP-Project/Detection/VOC2007/yolo-dataset/images/train/IP000000552.jpg: 448x640 (no detections), 19.4ms\n",
      "image 85/740 /home/haziq/Documents/VIP-Project/Detection/VOC2007/yolo-dataset/images/train/IP000000557.jpg: 448x640 (no detections), 21.3ms\n",
      "image 86/740 /home/haziq/Documents/VIP-Project/Detection/VOC2007/yolo-dataset/images/train/IP000000564.jpg: 480x640 (no detections), 21.0ms\n",
      "image 87/740 /home/haziq/Documents/VIP-Project/Detection/VOC2007/yolo-dataset/images/train/IP000000566.jpg: 576x640 (no detections), 25.3ms\n",
      "image 88/740 /home/haziq/Documents/VIP-Project/Detection/VOC2007/yolo-dataset/images/train/IP000000567.jpg: 448x640 (no detections), 21.3ms\n",
      "image 89/740 /home/haziq/Documents/VIP-Project/Detection/VOC2007/yolo-dataset/images/train/IP000000570.jpg: 480x640 (no detections), 20.5ms\n",
      "image 90/740 /home/haziq/Documents/VIP-Project/Detection/VOC2007/yolo-dataset/images/train/IP000000572.jpg: 448x640 (no detections), 20.2ms\n",
      "image 91/740 /home/haziq/Documents/VIP-Project/Detection/VOC2007/yolo-dataset/images/train/IP000000573.jpg: 512x640 (no detections), 22.5ms\n",
      "image 92/740 /home/haziq/Documents/VIP-Project/Detection/VOC2007/yolo-dataset/images/train/IP000000576.jpg: 480x640 (no detections), 21.6ms\n",
      "image 93/740 /home/haziq/Documents/VIP-Project/Detection/VOC2007/yolo-dataset/images/train/IP000000588.jpg: 576x640 1 0, 25.0ms\n",
      "image 94/740 /home/haziq/Documents/VIP-Project/Detection/VOC2007/yolo-dataset/images/train/IP000000593.jpg: 576x640 1 0, 23.0ms\n",
      "image 95/740 /home/haziq/Documents/VIP-Project/Detection/VOC2007/yolo-dataset/images/train/IP000000596.jpg: 576x640 (no detections), 24.2ms\n",
      "image 96/740 /home/haziq/Documents/VIP-Project/Detection/VOC2007/yolo-dataset/images/train/IP000000605.jpg: 416x640 (no detections), 20.9ms\n",
      "image 97/740 /home/haziq/Documents/VIP-Project/Detection/VOC2007/yolo-dataset/images/train/IP000000610.jpg: 544x640 (no detections), 24.3ms\n",
      "image 98/740 /home/haziq/Documents/VIP-Project/Detection/VOC2007/yolo-dataset/images/train/IP000000619.jpg: 480x640 (no detections), 20.2ms\n",
      "image 99/740 /home/haziq/Documents/VIP-Project/Detection/VOC2007/yolo-dataset/images/train/IP000000623.jpg: 448x640 (no detections), 23.2ms\n",
      "image 100/740 /home/haziq/Documents/VIP-Project/Detection/VOC2007/yolo-dataset/images/train/IP000000627.jpg: 480x640 (no detections), 21.9ms\n",
      "image 101/740 /home/haziq/Documents/VIP-Project/Detection/VOC2007/yolo-dataset/images/train/IP000000632.jpg: 480x640 (no detections), 19.6ms\n",
      "image 102/740 /home/haziq/Documents/VIP-Project/Detection/VOC2007/yolo-dataset/images/train/IP000000633.jpg: 416x640 (no detections), 20.2ms\n",
      "image 103/740 /home/haziq/Documents/VIP-Project/Detection/VOC2007/yolo-dataset/images/train/IP000000646.jpg: 416x640 (no detections), 18.7ms\n",
      "image 104/740 /home/haziq/Documents/VIP-Project/Detection/VOC2007/yolo-dataset/images/train/IP000000647.jpg: 480x640 (no detections), 21.8ms\n",
      "image 105/740 /home/haziq/Documents/VIP-Project/Detection/VOC2007/yolo-dataset/images/train/IP000000651.jpg: 416x640 (no detections), 21.3ms\n",
      "image 106/740 /home/haziq/Documents/VIP-Project/Detection/VOC2007/yolo-dataset/images/train/IP000000652.jpg: 416x640 (no detections), 20.8ms\n",
      "image 107/740 /home/haziq/Documents/VIP-Project/Detection/VOC2007/yolo-dataset/images/train/IP000000657.jpg: 640x640 (no detections), 26.6ms\n",
      "image 108/740 /home/haziq/Documents/VIP-Project/Detection/VOC2007/yolo-dataset/images/train/IP000000664.jpg: 480x640 (no detections), 21.0ms\n",
      "image 109/740 /home/haziq/Documents/VIP-Project/Detection/VOC2007/yolo-dataset/images/train/IP000000669.jpg: 544x640 (no detections), 24.6ms\n",
      "image 110/740 /home/haziq/Documents/VIP-Project/Detection/VOC2007/yolo-dataset/images/train/IP000000689.jpg: 640x640 1 0, 28.1ms\n",
      "image 111/740 /home/haziq/Documents/VIP-Project/Detection/VOC2007/yolo-dataset/images/train/IP000000693.jpg: 480x640 (no detections), 22.7ms\n",
      "image 112/740 /home/haziq/Documents/VIP-Project/Detection/VOC2007/yolo-dataset/images/train/IP000000696.jpg: 544x640 (no detections), 26.0ms\n",
      "image 113/740 /home/haziq/Documents/VIP-Project/Detection/VOC2007/yolo-dataset/images/train/IP000000698.jpg: 416x640 (no detections), 25.8ms\n",
      "image 114/740 /home/haziq/Documents/VIP-Project/Detection/VOC2007/yolo-dataset/images/train/IP000000706.jpg: 448x640 (no detections), 21.4ms\n",
      "image 115/740 /home/haziq/Documents/VIP-Project/Detection/VOC2007/yolo-dataset/images/train/IP000000713.jpg: 640x320 (no detections), 20.0ms\n",
      "image 116/740 /home/haziq/Documents/VIP-Project/Detection/VOC2007/yolo-dataset/images/train/IP000000714.jpg: 448x640 (no detections), 23.2ms\n",
      "image 117/740 /home/haziq/Documents/VIP-Project/Detection/VOC2007/yolo-dataset/images/train/IP000000724.jpg: 448x640 (no detections), 19.4ms\n",
      "image 118/740 /home/haziq/Documents/VIP-Project/Detection/VOC2007/yolo-dataset/images/train/IP000000726.jpg: 640x448 (no detections), 20.9ms\n",
      "image 119/740 /home/haziq/Documents/VIP-Project/Detection/VOC2007/yolo-dataset/images/train/IP000000735.jpg: 608x640 (no detections), 25.0ms\n",
      "image 120/740 /home/haziq/Documents/VIP-Project/Detection/VOC2007/yolo-dataset/images/train/IP000000742.jpg: 640x544 (no detections), 24.5ms\n",
      "image 121/740 /home/haziq/Documents/VIP-Project/Detection/VOC2007/yolo-dataset/images/train/IP000000747.jpg: 480x640 (no detections), 22.2ms\n",
      "image 122/740 /home/haziq/Documents/VIP-Project/Detection/VOC2007/yolo-dataset/images/train/IP000000780.jpg: 480x640 (no detections), 20.5ms\n",
      "image 123/740 /home/haziq/Documents/VIP-Project/Detection/VOC2007/yolo-dataset/images/train/IP000000782.jpg: 512x640 (no detections), 22.6ms\n",
      "image 124/740 /home/haziq/Documents/VIP-Project/Detection/VOC2007/yolo-dataset/images/train/IP000000788.jpg: 480x640 (no detections), 20.5ms\n",
      "image 125/740 /home/haziq/Documents/VIP-Project/Detection/VOC2007/yolo-dataset/images/train/IP000000795.jpg: 512x640 (no detections), 23.8ms\n",
      "image 126/740 /home/haziq/Documents/VIP-Project/Detection/VOC2007/yolo-dataset/images/train/IP000000798.jpg: 480x640 (no detections), 20.5ms\n",
      "image 127/740 /home/haziq/Documents/VIP-Project/Detection/VOC2007/yolo-dataset/images/train/IP000000803.jpg: 640x640 1 0, 27.0ms\n",
      "image 128/740 /home/haziq/Documents/VIP-Project/Detection/VOC2007/yolo-dataset/images/train/IP000000810.jpg: 384x640 (no detections), 20.4ms\n",
      "image 129/740 /home/haziq/Documents/VIP-Project/Detection/VOC2007/yolo-dataset/images/train/IP000000822.jpg: 480x640 (no detections), 21.2ms\n",
      "image 130/740 /home/haziq/Documents/VIP-Project/Detection/VOC2007/yolo-dataset/images/train/IP000000823.jpg: 416x640 (no detections), 20.5ms\n",
      "image 131/740 /home/haziq/Documents/VIP-Project/Detection/VOC2007/yolo-dataset/images/train/IP000000826.jpg: 448x640 (no detections), 21.9ms\n",
      "image 132/740 /home/haziq/Documents/VIP-Project/Detection/VOC2007/yolo-dataset/images/train/IP000000827.jpg: 448x640 (no detections), 20.3ms\n",
      "image 133/740 /home/haziq/Documents/VIP-Project/Detection/VOC2007/yolo-dataset/images/train/IP000000829.jpg: 416x640 (no detections), 21.5ms\n",
      "image 134/740 /home/haziq/Documents/VIP-Project/Detection/VOC2007/yolo-dataset/images/train/IP000000854.jpg: 448x640 (no detections), 22.9ms\n",
      "image 135/740 /home/haziq/Documents/VIP-Project/Detection/VOC2007/yolo-dataset/images/train/IP000000855.jpg: 544x640 (no detections), 24.1ms\n",
      "image 136/740 /home/haziq/Documents/VIP-Project/Detection/VOC2007/yolo-dataset/images/train/IP000000857.jpg: 640x640 (no detections), 25.7ms\n",
      "image 137/740 /home/haziq/Documents/VIP-Project/Detection/VOC2007/yolo-dataset/images/train/IP000000859.jpg: 480x640 (no detections), 21.0ms\n",
      "image 138/740 /home/haziq/Documents/VIP-Project/Detection/VOC2007/yolo-dataset/images/train/IP000000861.jpg: 448x640 (no detections), 20.6ms\n",
      "image 139/740 /home/haziq/Documents/VIP-Project/Detection/VOC2007/yolo-dataset/images/train/IP000000883.jpg: 512x640 (no detections), 23.3ms\n",
      "image 140/740 /home/haziq/Documents/VIP-Project/Detection/VOC2007/yolo-dataset/images/train/IP000000884.jpg: 480x640 (no detections), 21.2ms\n",
      "image 141/740 /home/haziq/Documents/VIP-Project/Detection/VOC2007/yolo-dataset/images/train/IP000000907.jpg: 480x640 (no detections), 20.4ms\n",
      "image 142/740 /home/haziq/Documents/VIP-Project/Detection/VOC2007/yolo-dataset/images/train/IP000000908.jpg: 480x640 (no detections), 21.3ms\n",
      "image 143/740 /home/haziq/Documents/VIP-Project/Detection/VOC2007/yolo-dataset/images/train/IP000000933.jpg: 512x640 (no detections), 22.6ms\n",
      "image 144/740 /home/haziq/Documents/VIP-Project/Detection/VOC2007/yolo-dataset/images/train/IP000000937.jpg: 512x640 (no detections), 22.7ms\n",
      "image 145/740 /home/haziq/Documents/VIP-Project/Detection/VOC2007/yolo-dataset/images/train/IP000000939.jpg: 512x640 (no detections), 21.3ms\n",
      "image 146/740 /home/haziq/Documents/VIP-Project/Detection/VOC2007/yolo-dataset/images/train/IP000000981.jpg: 512x640 (no detections), 22.2ms\n",
      "image 147/740 /home/haziq/Documents/VIP-Project/Detection/VOC2007/yolo-dataset/images/train/IP000000982.jpg: 416x640 (no detections), 20.5ms\n",
      "image 148/740 /home/haziq/Documents/VIP-Project/Detection/VOC2007/yolo-dataset/images/train/IP000000984.jpg: 416x640 (no detections), 20.1ms\n",
      "image 149/740 /home/haziq/Documents/VIP-Project/Detection/VOC2007/yolo-dataset/images/train/IP000001028.jpg: 640x640 (no detections), 27.5ms\n",
      "image 150/740 /home/haziq/Documents/VIP-Project/Detection/VOC2007/yolo-dataset/images/train/IP000001033.jpg: 512x640 (no detections), 22.6ms\n",
      "image 151/740 /home/haziq/Documents/VIP-Project/Detection/VOC2007/yolo-dataset/images/train/IP000001048.jpg: 480x640 (no detections), 21.2ms\n",
      "image 152/740 /home/haziq/Documents/VIP-Project/Detection/VOC2007/yolo-dataset/images/train/IP000001064.jpg: 544x640 (no detections), 24.7ms\n",
      "image 153/740 /home/haziq/Documents/VIP-Project/Detection/VOC2007/yolo-dataset/images/train/IP000001105.jpg: 480x640 (no detections), 22.5ms\n",
      "image 154/740 /home/haziq/Documents/VIP-Project/Detection/VOC2007/yolo-dataset/images/train/IP000001107.jpg: 640x640 (no detections), 25.5ms\n",
      "image 155/740 /home/haziq/Documents/VIP-Project/Detection/VOC2007/yolo-dataset/images/train/IP000001108.jpg: 640x608 (no detections), 25.1ms\n",
      "image 156/740 /home/haziq/Documents/VIP-Project/Detection/VOC2007/yolo-dataset/images/train/IP000001113.jpg: 640x640 (no detections), 25.8ms\n",
      "image 157/740 /home/haziq/Documents/VIP-Project/Detection/VOC2007/yolo-dataset/images/train/IP001000079.jpg: 640x608 (no detections), 25.4ms\n",
      "image 158/740 /home/haziq/Documents/VIP-Project/Detection/VOC2007/yolo-dataset/images/train/IP001000081.jpg: 640x640 (no detections), 26.5ms\n",
      "image 159/740 /home/haziq/Documents/VIP-Project/Detection/VOC2007/yolo-dataset/images/train/IP001000084.jpg: 480x640 (no detections), 21.4ms\n",
      "image 160/740 /home/haziq/Documents/VIP-Project/Detection/VOC2007/yolo-dataset/images/train/IP001000085.jpg: 512x640 (no detections), 23.4ms\n",
      "image 161/740 /home/haziq/Documents/VIP-Project/Detection/VOC2007/yolo-dataset/images/train/IP001000088.jpg: 640x480 (no detections), 129.2ms\n",
      "image 162/740 /home/haziq/Documents/VIP-Project/Detection/VOC2007/yolo-dataset/images/train/IP001000090.jpg: 640x512 (no detections), 152.7ms\n",
      "image 163/740 /home/haziq/Documents/VIP-Project/Detection/VOC2007/yolo-dataset/images/train/IP001000094.jpg: 448x640 (no detections), 21.8ms\n",
      "image 164/740 /home/haziq/Documents/VIP-Project/Detection/VOC2007/yolo-dataset/images/train/IP001000107.jpg: 640x544 (no detections), 24.2ms\n",
      "image 165/740 /home/haziq/Documents/VIP-Project/Detection/VOC2007/yolo-dataset/images/train/IP001000108.jpg: 640x544 (no detections), 23.1ms\n",
      "image 166/740 /home/haziq/Documents/VIP-Project/Detection/VOC2007/yolo-dataset/images/train/IP001000135.jpg: 384x640 (no detections), 21.4ms\n",
      "image 167/740 /home/haziq/Documents/VIP-Project/Detection/VOC2007/yolo-dataset/images/train/IP001000147.jpg: 544x640 (no detections), 23.9ms\n",
      "image 168/740 /home/haziq/Documents/VIP-Project/Detection/VOC2007/yolo-dataset/images/train/IP001000149.jpg: 384x640 (no detections), 19.8ms\n",
      "image 169/740 /home/haziq/Documents/VIP-Project/Detection/VOC2007/yolo-dataset/images/train/IP001000179.jpg: 640x512 (no detections), 23.1ms\n",
      "image 170/740 /home/haziq/Documents/VIP-Project/Detection/VOC2007/yolo-dataset/images/train/IP001000183.jpg: 480x640 (no detections), 23.1ms\n",
      "image 171/740 /home/haziq/Documents/VIP-Project/Detection/VOC2007/yolo-dataset/images/train/IP001000185.jpg: 640x640 (no detections), 26.3ms\n",
      "image 172/740 /home/haziq/Documents/VIP-Project/Detection/VOC2007/yolo-dataset/images/train/IP001000189.jpg: 640x640 (no detections), 25.3ms\n",
      "image 173/740 /home/haziq/Documents/VIP-Project/Detection/VOC2007/yolo-dataset/images/train/IP001000190.jpg: 480x640 (no detections), 22.7ms\n",
      "image 174/740 /home/haziq/Documents/VIP-Project/Detection/VOC2007/yolo-dataset/images/train/IP001000191.jpg: 640x640 (no detections), 25.8ms\n",
      "image 175/740 /home/haziq/Documents/VIP-Project/Detection/VOC2007/yolo-dataset/images/train/IP001000193.jpg: 512x640 (no detections), 22.7ms\n",
      "image 176/740 /home/haziq/Documents/VIP-Project/Detection/VOC2007/yolo-dataset/images/train/IP001000200.jpg: 448x640 (no detections), 21.0ms\n",
      "image 177/740 /home/haziq/Documents/VIP-Project/Detection/VOC2007/yolo-dataset/images/train/IP001000201.jpg: 480x640 (no detections), 20.5ms\n",
      "image 178/740 /home/haziq/Documents/VIP-Project/Detection/VOC2007/yolo-dataset/images/train/IP001000209.jpg: 480x640 (no detections), 21.7ms\n",
      "image 179/740 /home/haziq/Documents/VIP-Project/Detection/VOC2007/yolo-dataset/images/train/IP001000214.jpg: 320x640 (no detections), 152.4ms\n",
      "image 180/740 /home/haziq/Documents/VIP-Project/Detection/VOC2007/yolo-dataset/images/train/IP001000219.jpg: 640x576 (no detections), 24.6ms\n",
      "image 181/740 /home/haziq/Documents/VIP-Project/Detection/VOC2007/yolo-dataset/images/train/IP001000222.jpg: 416x640 (no detections), 21.9ms\n",
      "image 182/740 /home/haziq/Documents/VIP-Project/Detection/VOC2007/yolo-dataset/images/train/IP001000223.jpg: 416x640 (no detections), 20.9ms\n",
      "image 183/740 /home/haziq/Documents/VIP-Project/Detection/VOC2007/yolo-dataset/images/train/IP001000232.jpg: 640x640 (no detections), 26.3ms\n",
      "image 184/740 /home/haziq/Documents/VIP-Project/Detection/VOC2007/yolo-dataset/images/train/IP001000244.jpg: 416x640 (no detections), 21.2ms\n",
      "image 185/740 /home/haziq/Documents/VIP-Project/Detection/VOC2007/yolo-dataset/images/train/IP001000256.jpg: 512x640 (no detections), 22.6ms\n",
      "image 186/740 /home/haziq/Documents/VIP-Project/Detection/VOC2007/yolo-dataset/images/train/IP001000262.jpg: 480x640 (no detections), 21.0ms\n",
      "image 187/740 /home/haziq/Documents/VIP-Project/Detection/VOC2007/yolo-dataset/images/train/IP001000265.jpg: 480x640 (no detections), 20.8ms\n",
      "image 188/740 /home/haziq/Documents/VIP-Project/Detection/VOC2007/yolo-dataset/images/train/IP001000267.jpg: 640x608 (no detections), 25.6ms\n",
      "image 189/740 /home/haziq/Documents/VIP-Project/Detection/VOC2007/yolo-dataset/images/train/IP001000275.jpg: 640x448 (no detections), 20.7ms\n",
      "image 190/740 /home/haziq/Documents/VIP-Project/Detection/VOC2007/yolo-dataset/images/train/IP001000277.jpg: 480x640 (no detections), 21.0ms\n",
      "image 191/740 /home/haziq/Documents/VIP-Project/Detection/VOC2007/yolo-dataset/images/train/IP001000279.jpg: 480x640 (no detections), 22.5ms\n",
      "image 192/740 /home/haziq/Documents/VIP-Project/Detection/VOC2007/yolo-dataset/images/train/IP001000280.jpg: 448x640 (no detections), 21.1ms\n",
      "image 193/740 /home/haziq/Documents/VIP-Project/Detection/VOC2007/yolo-dataset/images/train/IP001000281.jpg: 448x640 (no detections), 21.1ms\n",
      "image 194/740 /home/haziq/Documents/VIP-Project/Detection/VOC2007/yolo-dataset/images/train/IP001000282.jpg: 576x640 1 0, 24.9ms\n",
      "image 195/740 /home/haziq/Documents/VIP-Project/Detection/VOC2007/yolo-dataset/images/train/IP001000283.jpg: 480x640 (no detections), 22.2ms\n",
      "image 196/740 /home/haziq/Documents/VIP-Project/Detection/VOC2007/yolo-dataset/images/train/IP001000284.jpg: 416x640 (no detections), 23.1ms\n",
      "image 197/740 /home/haziq/Documents/VIP-Project/Detection/VOC2007/yolo-dataset/images/train/IP001000285.jpg: 480x640 (no detections), 21.8ms\n",
      "image 198/740 /home/haziq/Documents/VIP-Project/Detection/VOC2007/yolo-dataset/images/train/IP001000299.jpg: 416x640 (no detections), 22.1ms\n",
      "image 199/740 /home/haziq/Documents/VIP-Project/Detection/VOC2007/yolo-dataset/images/train/IP001000300.jpg: 640x480 (no detections), 21.7ms\n",
      "image 200/740 /home/haziq/Documents/VIP-Project/Detection/VOC2007/yolo-dataset/images/train/IP001000305.jpg: 448x640 (no detections), 21.7ms\n",
      "image 201/740 /home/haziq/Documents/VIP-Project/Detection/VOC2007/yolo-dataset/images/train/IP001000309.jpg: 448x640 (no detections), 21.0ms\n",
      "image 202/740 /home/haziq/Documents/VIP-Project/Detection/VOC2007/yolo-dataset/images/train/IP001000314.jpg: 416x640 (no detections), 23.7ms\n",
      "image 203/740 /home/haziq/Documents/VIP-Project/Detection/VOC2007/yolo-dataset/images/train/IP001000317.jpg: 576x640 (no detections), 25.5ms\n",
      "image 204/740 /home/haziq/Documents/VIP-Project/Detection/VOC2007/yolo-dataset/images/train/IP001000325.jpg: 640x640 (no detections), 26.0ms\n",
      "image 205/740 /home/haziq/Documents/VIP-Project/Detection/VOC2007/yolo-dataset/images/train/IP001000326.jpg: 640x512 (no detections), 23.0ms\n",
      "image 206/740 /home/haziq/Documents/VIP-Project/Detection/VOC2007/yolo-dataset/images/train/IP001000327.jpg: 416x640 (no detections), 22.6ms\n",
      "image 207/740 /home/haziq/Documents/VIP-Project/Detection/VOC2007/yolo-dataset/images/train/IP001000329.jpg: 256x640 (no detections), 154.2ms\n",
      "image 208/740 /home/haziq/Documents/VIP-Project/Detection/VOC2007/yolo-dataset/images/train/IP001000333.jpg: 640x448 (no detections), 20.9ms\n",
      "image 209/740 /home/haziq/Documents/VIP-Project/Detection/VOC2007/yolo-dataset/images/train/IP001000336.jpg: 640x512 (no detections), 22.3ms\n",
      "image 210/740 /home/haziq/Documents/VIP-Project/Detection/VOC2007/yolo-dataset/images/train/IP001000337.jpg: 384x640 (no detections), 22.5ms\n",
      "image 211/740 /home/haziq/Documents/VIP-Project/Detection/VOC2007/yolo-dataset/images/train/IP001000339.jpg: 480x640 (no detections), 20.8ms\n",
      "image 212/740 /home/haziq/Documents/VIP-Project/Detection/VOC2007/yolo-dataset/images/train/IP001000341.jpg: 448x640 (no detections), 20.9ms\n",
      "image 213/740 /home/haziq/Documents/VIP-Project/Detection/VOC2007/yolo-dataset/images/train/IP001000342.jpg: 448x640 (no detections), 22.1ms\n",
      "image 214/740 /home/haziq/Documents/VIP-Project/Detection/VOC2007/yolo-dataset/images/train/IP001000344.jpg: 640x544 (no detections), 24.0ms\n",
      "image 215/740 /home/haziq/Documents/VIP-Project/Detection/VOC2007/yolo-dataset/images/train/IP001000347.jpg: 480x640 (no detections), 22.3ms\n",
      "image 216/740 /home/haziq/Documents/VIP-Project/Detection/VOC2007/yolo-dataset/images/train/IP001000349.jpg: 480x640 (no detections), 21.4ms\n",
      "image 217/740 /home/haziq/Documents/VIP-Project/Detection/VOC2007/yolo-dataset/images/train/IP001000351.jpg: 640x448 (no detections), 20.8ms\n",
      "image 218/740 /home/haziq/Documents/VIP-Project/Detection/VOC2007/yolo-dataset/images/train/IP001000360.jpg: 544x640 (no detections), 24.3ms\n",
      "image 219/740 /home/haziq/Documents/VIP-Project/Detection/VOC2007/yolo-dataset/images/train/IP001000361.jpg: 480x640 (no detections), 22.4ms\n",
      "image 220/740 /home/haziq/Documents/VIP-Project/Detection/VOC2007/yolo-dataset/images/train/IP001000368.jpg: 416x640 (no detections), 25.5ms\n",
      "image 221/740 /home/haziq/Documents/VIP-Project/Detection/VOC2007/yolo-dataset/images/train/IP001000369.jpg: 448x640 (no detections), 23.5ms\n",
      "image 222/740 /home/haziq/Documents/VIP-Project/Detection/VOC2007/yolo-dataset/images/train/IP001000371.jpg: 448x640 (no detections), 21.9ms\n",
      "image 223/740 /home/haziq/Documents/VIP-Project/Detection/VOC2007/yolo-dataset/images/train/IP001000372.jpg: 448x640 (no detections), 20.8ms\n",
      "image 224/740 /home/haziq/Documents/VIP-Project/Detection/VOC2007/yolo-dataset/images/train/IP001000373.jpg: 448x640 (no detections), 20.2ms\n",
      "image 225/740 /home/haziq/Documents/VIP-Project/Detection/VOC2007/yolo-dataset/images/train/IP001000375.jpg: 288x640 (no detections), 151.6ms\n",
      "image 226/740 /home/haziq/Documents/VIP-Project/Detection/VOC2007/yolo-dataset/images/train/IP001000376.jpg: 416x640 (no detections), 24.3ms\n",
      "image 227/740 /home/haziq/Documents/VIP-Project/Detection/VOC2007/yolo-dataset/images/train/IP001000378.jpg: 416x640 (no detections), 24.3ms\n",
      "image 228/740 /home/haziq/Documents/VIP-Project/Detection/VOC2007/yolo-dataset/images/train/IP001000381.jpg: 416x640 (no detections), 21.0ms\n",
      "image 229/740 /home/haziq/Documents/VIP-Project/Detection/VOC2007/yolo-dataset/images/train/IP001000382.jpg: 640x640 (no detections), 25.8ms\n",
      "image 230/740 /home/haziq/Documents/VIP-Project/Detection/VOC2007/yolo-dataset/images/train/IP001000384.jpg: 384x640 (no detections), 21.4ms\n",
      "image 231/740 /home/haziq/Documents/VIP-Project/Detection/VOC2007/yolo-dataset/images/train/IP001000385.jpg: 384x640 (no detections), 20.9ms\n",
      "image 232/740 /home/haziq/Documents/VIP-Project/Detection/VOC2007/yolo-dataset/images/train/IP001000389.jpg: 448x640 (no detections), 23.3ms\n",
      "image 233/740 /home/haziq/Documents/VIP-Project/Detection/VOC2007/yolo-dataset/images/train/IP001000390.jpg: 640x480 (no detections), 22.1ms\n",
      "image 234/740 /home/haziq/Documents/VIP-Project/Detection/VOC2007/yolo-dataset/images/train/IP001000392.jpg: 480x640 (no detections), 20.7ms\n",
      "image 235/740 /home/haziq/Documents/VIP-Project/Detection/VOC2007/yolo-dataset/images/train/IP001000393.jpg: 640x576 (no detections), 24.4ms\n",
      "image 236/740 /home/haziq/Documents/VIP-Project/Detection/VOC2007/yolo-dataset/images/train/IP001000395.jpg: 480x640 (no detections), 24.7ms\n",
      "image 237/740 /home/haziq/Documents/VIP-Project/Detection/VOC2007/yolo-dataset/images/train/IP001000396.jpg: 384x640 (no detections), 25.3ms\n",
      "image 238/740 /home/haziq/Documents/VIP-Project/Detection/VOC2007/yolo-dataset/images/train/IP001000400.jpg: 480x640 (no detections), 24.1ms\n",
      "image 239/740 /home/haziq/Documents/VIP-Project/Detection/VOC2007/yolo-dataset/images/train/IP001000417.jpg: 512x640 (no detections), 22.6ms\n",
      "image 240/740 /home/haziq/Documents/VIP-Project/Detection/VOC2007/yolo-dataset/images/train/IP001000418.jpg: 480x640 (no detections), 22.4ms\n",
      "image 241/740 /home/haziq/Documents/VIP-Project/Detection/VOC2007/yolo-dataset/images/train/IP001000419.jpg: 480x640 (no detections), 21.8ms\n",
      "image 242/740 /home/haziq/Documents/VIP-Project/Detection/VOC2007/yolo-dataset/images/train/IP001000429.jpg: 640x480 (no detections), 23.4ms\n",
      "image 243/740 /home/haziq/Documents/VIP-Project/Detection/VOC2007/yolo-dataset/images/train/IP001000431.jpg: 512x640 (no detections), 23.7ms\n",
      "image 244/740 /home/haziq/Documents/VIP-Project/Detection/VOC2007/yolo-dataset/images/train/IP001000438.jpg: 480x640 (no detections), 21.5ms\n",
      "image 245/740 /home/haziq/Documents/VIP-Project/Detection/VOC2007/yolo-dataset/images/train/IP001000441.jpg: 480x640 (no detections), 21.6ms\n",
      "image 246/740 /home/haziq/Documents/VIP-Project/Detection/VOC2007/yolo-dataset/images/train/IP001000455.jpg: 416x640 (no detections), 22.2ms\n",
      "image 247/740 /home/haziq/Documents/VIP-Project/Detection/VOC2007/yolo-dataset/images/train/IP001000459.jpg: 480x640 (no detections), 23.7ms\n",
      "image 248/740 /home/haziq/Documents/VIP-Project/Detection/VOC2007/yolo-dataset/images/train/IP001000460.jpg: 544x640 (no detections), 24.4ms\n",
      "image 249/740 /home/haziq/Documents/VIP-Project/Detection/VOC2007/yolo-dataset/images/train/IP001000465.jpg: 448x640 (no detections), 22.7ms\n",
      "image 250/740 /home/haziq/Documents/VIP-Project/Detection/VOC2007/yolo-dataset/images/train/IP001000482.jpg: 608x640 (no detections), 26.0ms\n",
      "image 251/740 /home/haziq/Documents/VIP-Project/Detection/VOC2007/yolo-dataset/images/train/IP001000483.jpg: 608x640 (no detections), 24.1ms\n",
      "image 252/740 /home/haziq/Documents/VIP-Project/Detection/VOC2007/yolo-dataset/images/train/IP001000486.jpg: 608x640 (no detections), 23.5ms\n",
      "image 253/740 /home/haziq/Documents/VIP-Project/Detection/VOC2007/yolo-dataset/images/train/IP002000184.jpg: 384x640 (no detections), 22.0ms\n",
      "image 254/740 /home/haziq/Documents/VIP-Project/Detection/VOC2007/yolo-dataset/images/train/IP002000187.jpg: 512x640 (no detections), 23.0ms\n",
      "image 255/740 /home/haziq/Documents/VIP-Project/Detection/VOC2007/yolo-dataset/images/train/IP002000196.jpg: 448x640 (no detections), 20.7ms\n",
      "image 256/740 /home/haziq/Documents/VIP-Project/Detection/VOC2007/yolo-dataset/images/train/IP002000250.jpg: 480x640 (no detections), 22.7ms\n",
      "image 257/740 /home/haziq/Documents/VIP-Project/Detection/VOC2007/yolo-dataset/images/train/IP002000251.jpg: 544x640 (no detections), 24.5ms\n",
      "image 258/740 /home/haziq/Documents/VIP-Project/Detection/VOC2007/yolo-dataset/images/train/IP002000255.jpg: 448x640 (no detections), 22.4ms\n",
      "image 259/740 /home/haziq/Documents/VIP-Project/Detection/VOC2007/yolo-dataset/images/train/IP002000257.jpg: 480x640 (no detections), 24.1ms\n",
      "image 260/740 /home/haziq/Documents/VIP-Project/Detection/VOC2007/yolo-dataset/images/train/IP003000008.jpg: 352x640 (no detections), 152.4ms\n",
      "image 261/740 /home/haziq/Documents/VIP-Project/Detection/VOC2007/yolo-dataset/images/train/IP003000012.jpg: 448x640 (no detections), 22.4ms\n",
      "image 262/740 /home/haziq/Documents/VIP-Project/Detection/VOC2007/yolo-dataset/images/train/IP003000022.jpg: 480x640 (no detections), 22.9ms\n",
      "image 263/740 /home/haziq/Documents/VIP-Project/Detection/VOC2007/yolo-dataset/images/train/IP003000032.jpg: 608x640 (no detections), 25.3ms\n",
      "image 264/740 /home/haziq/Documents/VIP-Project/Detection/VOC2007/yolo-dataset/images/train/IP003000045.jpg: 416x640 (no detections), 23.8ms\n",
      "image 265/740 /home/haziq/Documents/VIP-Project/Detection/VOC2007/yolo-dataset/images/train/IP003000164.jpg: 480x640 (no detections), 22.5ms\n",
      "image 266/740 /home/haziq/Documents/VIP-Project/Detection/VOC2007/yolo-dataset/images/train/IP003000166.jpg: 640x640 (no detections), 26.4ms\n",
      "image 267/740 /home/haziq/Documents/VIP-Project/Detection/VOC2007/yolo-dataset/images/train/IP003000168.jpg: 640x640 (no detections), 25.0ms\n",
      "image 268/740 /home/haziq/Documents/VIP-Project/Detection/VOC2007/yolo-dataset/images/train/IP003000169.jpg: 416x640 (no detections), 22.0ms\n",
      "image 269/740 /home/haziq/Documents/VIP-Project/Detection/VOC2007/yolo-dataset/images/train/IP003000171.jpg: 608x640 (no detections), 25.4ms\n",
      "image 270/740 /home/haziq/Documents/VIP-Project/Detection/VOC2007/yolo-dataset/images/train/IP003000172.jpg: 640x448 (no detections), 23.3ms\n",
      "image 271/740 /home/haziq/Documents/VIP-Project/Detection/VOC2007/yolo-dataset/images/train/IP003000173.jpg: 480x640 (no detections), 24.2ms\n",
      "image 272/740 /home/haziq/Documents/VIP-Project/Detection/VOC2007/yolo-dataset/images/train/IP003000174.jpg: 480x640 (no detections), 21.8ms\n",
      "image 273/740 /home/haziq/Documents/VIP-Project/Detection/VOC2007/yolo-dataset/images/train/IP003000175.jpg: 448x640 (no detections), 22.3ms\n",
      "image 274/740 /home/haziq/Documents/VIP-Project/Detection/VOC2007/yolo-dataset/images/train/IP003000178.jpg: 640x640 (no detections), 26.3ms\n",
      "image 275/740 /home/haziq/Documents/VIP-Project/Detection/VOC2007/yolo-dataset/images/train/IP003000180.jpg: 480x640 (no detections), 21.4ms\n",
      "image 276/740 /home/haziq/Documents/VIP-Project/Detection/VOC2007/yolo-dataset/images/train/IP003000183.jpg: 480x640 (no detections), 21.4ms\n",
      "image 277/740 /home/haziq/Documents/VIP-Project/Detection/VOC2007/yolo-dataset/images/train/IP003000186.jpg: 448x640 (no detections), 23.9ms\n",
      "image 278/740 /home/haziq/Documents/VIP-Project/Detection/VOC2007/yolo-dataset/images/train/IP003000188.jpg: 480x640 (no detections), 23.5ms\n",
      "image 279/740 /home/haziq/Documents/VIP-Project/Detection/VOC2007/yolo-dataset/images/train/IP003000202.jpg: 480x640 (no detections), 23.9ms\n",
      "image 280/740 /home/haziq/Documents/VIP-Project/Detection/VOC2007/yolo-dataset/images/train/IP003000203.jpg: 448x640 (no detections), 21.1ms\n",
      "image 281/740 /home/haziq/Documents/VIP-Project/Detection/VOC2007/yolo-dataset/images/train/IP003000234.jpg: 480x640 (no detections), 22.5ms\n",
      "image 282/740 /home/haziq/Documents/VIP-Project/Detection/VOC2007/yolo-dataset/images/train/IP003000241.jpg: 640x640 (no detections), 26.6ms\n",
      "image 283/740 /home/haziq/Documents/VIP-Project/Detection/VOC2007/yolo-dataset/images/train/IP003000245.jpg: 480x640 (no detections), 22.2ms\n",
      "image 284/740 /home/haziq/Documents/VIP-Project/Detection/VOC2007/yolo-dataset/images/train/IP003000249.jpg: 416x640 (no detections), 23.1ms\n",
      "image 285/740 /home/haziq/Documents/VIP-Project/Detection/VOC2007/yolo-dataset/images/train/IP003000251.jpg: 480x640 (no detections), 22.8ms\n",
      "image 286/740 /home/haziq/Documents/VIP-Project/Detection/VOC2007/yolo-dataset/images/train/IP003000252.jpg: 416x640 (no detections), 23.5ms\n",
      "image 287/740 /home/haziq/Documents/VIP-Project/Detection/VOC2007/yolo-dataset/images/train/IP003000264.jpg: 640x640 (no detections), 26.9ms\n",
      "image 288/740 /home/haziq/Documents/VIP-Project/Detection/VOC2007/yolo-dataset/images/train/IP003000265.jpg: 448x640 (no detections), 22.4ms\n",
      "image 289/740 /home/haziq/Documents/VIP-Project/Detection/VOC2007/yolo-dataset/images/train/IP003000271.jpg: 640x416 (no detections), 154.7ms\n",
      "image 290/740 /home/haziq/Documents/VIP-Project/Detection/VOC2007/yolo-dataset/images/train/IP003000282.jpg: 640x544 (no detections), 25.5ms\n",
      "image 291/740 /home/haziq/Documents/VIP-Project/Detection/VOC2007/yolo-dataset/images/train/IP003000283.jpg: 448x640 (no detections), 23.3ms\n",
      "image 292/740 /home/haziq/Documents/VIP-Project/Detection/VOC2007/yolo-dataset/images/train/IP003000290.jpg: 640x640 (no detections), 26.1ms\n",
      "image 293/740 /home/haziq/Documents/VIP-Project/Detection/VOC2007/yolo-dataset/images/train/IP003000292.jpg: 640x480 (no detections), 22.3ms\n",
      "image 294/740 /home/haziq/Documents/VIP-Project/Detection/VOC2007/yolo-dataset/images/train/IP003000303.jpg: 544x640 (no detections), 24.3ms\n",
      "image 295/740 /home/haziq/Documents/VIP-Project/Detection/VOC2007/yolo-dataset/images/train/IP003000313.jpg: 480x640 (no detections), 30.1ms\n",
      "image 296/740 /home/haziq/Documents/VIP-Project/Detection/VOC2007/yolo-dataset/images/train/IP003000317.jpg: 640x384 (no detections), 156.3ms\n",
      "image 297/740 /home/haziq/Documents/VIP-Project/Detection/VOC2007/yolo-dataset/images/train/IP003000331.jpg: 480x640 (no detections), 25.9ms\n",
      "image 298/740 /home/haziq/Documents/VIP-Project/Detection/VOC2007/yolo-dataset/images/train/IP003000336.jpg: 480x640 (no detections), 23.7ms\n",
      "image 299/740 /home/haziq/Documents/VIP-Project/Detection/VOC2007/yolo-dataset/images/train/IP003000341.jpg: 640x640 (no detections), 26.8ms\n",
      "image 300/740 /home/haziq/Documents/VIP-Project/Detection/VOC2007/yolo-dataset/images/train/IP003000342.jpg: 416x640 (no detections), 24.6ms\n",
      "image 301/740 /home/haziq/Documents/VIP-Project/Detection/VOC2007/yolo-dataset/images/train/IP003000349.jpg: 640x640 (no detections), 26.3ms\n",
      "image 302/740 /home/haziq/Documents/VIP-Project/Detection/VOC2007/yolo-dataset/images/train/IP003000354.jpg: 640x576 (no detections), 23.8ms\n",
      "image 303/740 /home/haziq/Documents/VIP-Project/Detection/VOC2007/yolo-dataset/images/train/IP003000363.jpg: 416x640 (no detections), 23.5ms\n",
      "image 304/740 /home/haziq/Documents/VIP-Project/Detection/VOC2007/yolo-dataset/images/train/IP003000365.jpg: 640x640 (no detections), 26.4ms\n",
      "image 305/740 /home/haziq/Documents/VIP-Project/Detection/VOC2007/yolo-dataset/images/train/IP003000401.jpg: 640x480 (no detections), 24.4ms\n",
      "image 306/740 /home/haziq/Documents/VIP-Project/Detection/VOC2007/yolo-dataset/images/train/IP003000426.jpg: 480x640 (no detections), 22.9ms\n",
      "image 307/740 /home/haziq/Documents/VIP-Project/Detection/VOC2007/yolo-dataset/images/train/IP003000452.jpg: 640x640 (no detections), 26.8ms\n",
      "image 308/740 /home/haziq/Documents/VIP-Project/Detection/VOC2007/yolo-dataset/images/train/IP003000485.jpg: 448x640 (no detections), 23.7ms\n",
      "image 309/740 /home/haziq/Documents/VIP-Project/Detection/VOC2007/yolo-dataset/images/train/IP003000496.jpg: 512x640 (no detections), 23.8ms\n",
      "image 310/740 /home/haziq/Documents/VIP-Project/Detection/VOC2007/yolo-dataset/images/train/IP003000499.jpg: 608x640 (no detections), 25.6ms\n",
      "image 311/740 /home/haziq/Documents/VIP-Project/Detection/VOC2007/yolo-dataset/images/train/IP003000504.jpg: 480x640 (no detections), 25.0ms\n",
      "image 312/740 /home/haziq/Documents/VIP-Project/Detection/VOC2007/yolo-dataset/images/train/IP003000507.jpg: 640x608 (no detections), 25.4ms\n",
      "image 313/740 /home/haziq/Documents/VIP-Project/Detection/VOC2007/yolo-dataset/images/train/IP003000509.jpg: 640x640 (no detections), 26.2ms\n",
      "image 314/740 /home/haziq/Documents/VIP-Project/Detection/VOC2007/yolo-dataset/images/train/IP003000510.jpg: 640x640 (no detections), 24.5ms\n",
      "image 315/740 /home/haziq/Documents/VIP-Project/Detection/VOC2007/yolo-dataset/images/train/IP003000519.jpg: 480x640 (no detections), 25.2ms\n",
      "image 316/740 /home/haziq/Documents/VIP-Project/Detection/VOC2007/yolo-dataset/images/train/IP003000521.jpg: 640x544 (no detections), 24.4ms\n",
      "image 317/740 /home/haziq/Documents/VIP-Project/Detection/VOC2007/yolo-dataset/images/train/IP003000523.jpg: 640x544 (no detections), 22.9ms\n",
      "image 318/740 /home/haziq/Documents/VIP-Project/Detection/VOC2007/yolo-dataset/images/train/IP003000524.jpg: 480x640 (no detections), 25.1ms\n",
      "image 319/740 /home/haziq/Documents/VIP-Project/Detection/VOC2007/yolo-dataset/images/train/IP003000526.jpg: 480x640 (no detections), 22.7ms\n",
      "image 320/740 /home/haziq/Documents/VIP-Project/Detection/VOC2007/yolo-dataset/images/train/IP003000527.jpg: 480x640 (no detections), 22.4ms\n",
      "image 321/740 /home/haziq/Documents/VIP-Project/Detection/VOC2007/yolo-dataset/images/train/IP003000528.jpg: 640x544 (no detections), 24.0ms\n",
      "image 322/740 /home/haziq/Documents/VIP-Project/Detection/VOC2007/yolo-dataset/images/train/IP003000529.jpg: 576x640 (no detections), 24.8ms\n",
      "image 323/740 /home/haziq/Documents/VIP-Project/Detection/VOC2007/yolo-dataset/images/train/IP003000535.jpg: 640x512 (no detections), 23.3ms\n",
      "image 324/740 /home/haziq/Documents/VIP-Project/Detection/VOC2007/yolo-dataset/images/train/IP003000541.jpg: 640x448 (no detections), 24.0ms\n",
      "image 325/740 /home/haziq/Documents/VIP-Project/Detection/VOC2007/yolo-dataset/images/train/IP003000543.jpg: 640x640 (no detections), 26.5ms\n",
      "image 326/740 /home/haziq/Documents/VIP-Project/Detection/VOC2007/yolo-dataset/images/train/IP003000544.jpg: 480x640 (no detections), 22.8ms\n",
      "image 327/740 /home/haziq/Documents/VIP-Project/Detection/VOC2007/yolo-dataset/images/train/IP003000545.jpg: 288x640 (no detections), 22.4ms\n",
      "image 328/740 /home/haziq/Documents/VIP-Project/Detection/VOC2007/yolo-dataset/images/train/IP003000548.jpg: 640x640 (no detections), 25.8ms\n",
      "image 329/740 /home/haziq/Documents/VIP-Project/Detection/VOC2007/yolo-dataset/images/train/IP003000549.jpg: 640x640 (no detections), 25.2ms\n",
      "image 330/740 /home/haziq/Documents/VIP-Project/Detection/VOC2007/yolo-dataset/images/train/IP003000551.jpg: 448x640 (no detections), 24.3ms\n",
      "image 331/740 /home/haziq/Documents/VIP-Project/Detection/VOC2007/yolo-dataset/images/train/IP003000557.jpg: 544x640 (no detections), 25.0ms\n",
      "image 332/740 /home/haziq/Documents/VIP-Project/Detection/VOC2007/yolo-dataset/images/train/IP003000558.jpg: 448x640 (no detections), 27.7ms\n",
      "image 333/740 /home/haziq/Documents/VIP-Project/Detection/VOC2007/yolo-dataset/images/train/IP003000559.jpg: 608x640 (no detections), 26.1ms\n",
      "image 334/740 /home/haziq/Documents/VIP-Project/Detection/VOC2007/yolo-dataset/images/train/IP003000561.jpg: 480x640 (no detections), 26.4ms\n",
      "image 335/740 /home/haziq/Documents/VIP-Project/Detection/VOC2007/yolo-dataset/images/train/IP003000563.jpg: 512x640 (no detections), 24.6ms\n",
      "image 336/740 /home/haziq/Documents/VIP-Project/Detection/VOC2007/yolo-dataset/images/train/IP003000567.jpg: 512x640 (no detections), 24.5ms\n",
      "image 337/740 /home/haziq/Documents/VIP-Project/Detection/VOC2007/yolo-dataset/images/train/IP003000568.jpg: 320x640 (no detections), 24.3ms\n",
      "image 338/740 /home/haziq/Documents/VIP-Project/Detection/VOC2007/yolo-dataset/images/train/IP003000569.jpg: 544x640 (no detections), 24.9ms\n",
      "image 339/740 /home/haziq/Documents/VIP-Project/Detection/VOC2007/yolo-dataset/images/train/IP003000570.jpg: 640x640 (no detections), 27.1ms\n",
      "image 340/740 /home/haziq/Documents/VIP-Project/Detection/VOC2007/yolo-dataset/images/train/IP003000571.jpg: 480x640 (no detections), 22.8ms\n",
      "image 341/740 /home/haziq/Documents/VIP-Project/Detection/VOC2007/yolo-dataset/images/train/IP003000573.jpg: 448x640 (no detections), 24.0ms\n",
      "image 342/740 /home/haziq/Documents/VIP-Project/Detection/VOC2007/yolo-dataset/images/train/IP003000575.jpg: 544x640 (no detections), 23.7ms\n",
      "image 343/740 /home/haziq/Documents/VIP-Project/Detection/VOC2007/yolo-dataset/images/train/IP003000577.jpg: 416x640 (no detections), 30.7ms\n",
      "image 344/740 /home/haziq/Documents/VIP-Project/Detection/VOC2007/yolo-dataset/images/train/IP003000578.jpg: 480x640 (no detections), 28.3ms\n",
      "image 345/740 /home/haziq/Documents/VIP-Project/Detection/VOC2007/yolo-dataset/images/train/IP003000579.jpg: 480x640 (no detections), 26.4ms\n",
      "image 346/740 /home/haziq/Documents/VIP-Project/Detection/VOC2007/yolo-dataset/images/train/IP003000581.jpg: 416x640 (no detections), 24.5ms\n",
      "image 347/740 /home/haziq/Documents/VIP-Project/Detection/VOC2007/yolo-dataset/images/train/IP003000582.jpg: 480x640 (no detections), 24.1ms\n",
      "image 348/740 /home/haziq/Documents/VIP-Project/Detection/VOC2007/yolo-dataset/images/train/IP003000583.jpg: 640x640 (no detections), 25.7ms\n",
      "image 349/740 /home/haziq/Documents/VIP-Project/Detection/VOC2007/yolo-dataset/images/train/IP003000585.jpg: 480x640 (no detections), 24.3ms\n",
      "image 350/740 /home/haziq/Documents/VIP-Project/Detection/VOC2007/yolo-dataset/images/train/IP003000587.jpg: 448x640 (no detections), 24.7ms\n",
      "image 351/740 /home/haziq/Documents/VIP-Project/Detection/VOC2007/yolo-dataset/images/train/IP003000588.jpg: 352x640 (no detections), 23.4ms\n",
      "image 352/740 /home/haziq/Documents/VIP-Project/Detection/VOC2007/yolo-dataset/images/train/IP003000589.jpg: 416x640 (no detections), 24.8ms\n",
      "image 353/740 /home/haziq/Documents/VIP-Project/Detection/VOC2007/yolo-dataset/images/train/IP003000592.jpg: 640x640 (no detections), 26.7ms\n",
      "image 354/740 /home/haziq/Documents/VIP-Project/Detection/VOC2007/yolo-dataset/images/train/IP003000593.jpg: 416x640 (no detections), 25.2ms\n",
      "image 355/740 /home/haziq/Documents/VIP-Project/Detection/VOC2007/yolo-dataset/images/train/IP003000597.jpg: 512x640 (no detections), 23.9ms\n",
      "image 356/740 /home/haziq/Documents/VIP-Project/Detection/VOC2007/yolo-dataset/images/train/IP003000598.jpg: 640x480 (no detections), 23.0ms\n",
      "image 357/740 /home/haziq/Documents/VIP-Project/Detection/VOC2007/yolo-dataset/images/train/IP003000604.jpg: 512x640 (no detections), 23.0ms\n",
      "image 358/740 /home/haziq/Documents/VIP-Project/Detection/VOC2007/yolo-dataset/images/train/IP003000629.jpg: 640x640 (no detections), 26.2ms\n",
      "image 359/740 /home/haziq/Documents/VIP-Project/Detection/VOC2007/yolo-dataset/images/train/IP003000630.jpg: 544x640 (no detections), 24.3ms\n",
      "image 360/740 /home/haziq/Documents/VIP-Project/Detection/VOC2007/yolo-dataset/images/train/IP003000633.jpg: 544x640 (no detections), 23.7ms\n",
      "image 361/740 /home/haziq/Documents/VIP-Project/Detection/VOC2007/yolo-dataset/images/train/IP003000638.jpg: 416x640 (no detections), 27.8ms\n",
      "image 362/740 /home/haziq/Documents/VIP-Project/Detection/VOC2007/yolo-dataset/images/train/IP003000645.jpg: 448x640 (no detections), 23.7ms\n",
      "image 363/740 /home/haziq/Documents/VIP-Project/Detection/VOC2007/yolo-dataset/images/train/IP003000649.jpg: 512x640 (no detections), 23.8ms\n",
      "image 364/740 /home/haziq/Documents/VIP-Project/Detection/VOC2007/yolo-dataset/images/train/IP003000669.jpg: 416x640 (no detections), 24.3ms\n",
      "image 365/740 /home/haziq/Documents/VIP-Project/Detection/VOC2007/yolo-dataset/images/train/IP003000698.jpg: 416x640 (no detections), 23.3ms\n",
      "image 366/740 /home/haziq/Documents/VIP-Project/Detection/VOC2007/yolo-dataset/images/train/IP003000702.jpg: 512x640 (no detections), 26.7ms\n",
      "image 367/740 /home/haziq/Documents/VIP-Project/Detection/VOC2007/yolo-dataset/images/train/IP003000705.jpg: 416x640 (no detections), 25.1ms\n",
      "image 368/740 /home/haziq/Documents/VIP-Project/Detection/VOC2007/yolo-dataset/images/train/IP003000720.jpg: 640x576 (no detections), 24.2ms\n",
      "image 369/740 /home/haziq/Documents/VIP-Project/Detection/VOC2007/yolo-dataset/images/train/IP003000725.jpg: 480x640 (no detections), 24.0ms\n",
      "image 370/740 /home/haziq/Documents/VIP-Project/Detection/VOC2007/yolo-dataset/images/train/IP003000757.jpg: 480x640 (no detections), 42.7ms\n",
      "image 371/740 /home/haziq/Documents/VIP-Project/Detection/VOC2007/yolo-dataset/images/train/IP003000783.jpg: 512x640 (no detections), 42.6ms\n",
      "image 372/740 /home/haziq/Documents/VIP-Project/Detection/VOC2007/yolo-dataset/images/train/IP003000787.jpg: 480x640 (no detections), 31.0ms\n",
      "image 373/740 /home/haziq/Documents/VIP-Project/Detection/VOC2007/yolo-dataset/images/train/IP003000807.jpg: 640x640 (no detections), 27.4ms\n",
      "image 374/740 /home/haziq/Documents/VIP-Project/Detection/VOC2007/yolo-dataset/images/train/IP003000812.jpg: 480x640 (no detections), 28.6ms\n",
      "image 375/740 /home/haziq/Documents/VIP-Project/Detection/VOC2007/yolo-dataset/images/train/IP003000813.jpg: 416x640 (no detections), 28.9ms\n",
      "image 376/740 /home/haziq/Documents/VIP-Project/Detection/VOC2007/yolo-dataset/images/train/IP003000824.jpg: 512x640 (no detections), 25.7ms\n",
      "image 377/740 /home/haziq/Documents/VIP-Project/Detection/VOC2007/yolo-dataset/images/train/IP003000825.jpg: 480x640 (no detections), 24.5ms\n",
      "image 378/740 /home/haziq/Documents/VIP-Project/Detection/VOC2007/yolo-dataset/images/train/IP003000831.jpg: 640x640 (no detections), 26.3ms\n",
      "image 379/740 /home/haziq/Documents/VIP-Project/Detection/VOC2007/yolo-dataset/images/train/IP003000832.jpg: 480x640 (no detections), 26.4ms\n",
      "image 380/740 /home/haziq/Documents/VIP-Project/Detection/VOC2007/yolo-dataset/images/train/IP003000849.jpg: 608x640 (no detections), 26.6ms\n",
      "image 381/740 /home/haziq/Documents/VIP-Project/Detection/VOC2007/yolo-dataset/images/train/IP003000855.jpg: 480x640 (no detections), 33.7ms\n",
      "image 382/740 /home/haziq/Documents/VIP-Project/Detection/VOC2007/yolo-dataset/images/train/IP003000857.jpg: 480x640 (no detections), 26.3ms\n",
      "image 383/740 /home/haziq/Documents/VIP-Project/Detection/VOC2007/yolo-dataset/images/train/IP003000860.jpg: 576x640 (no detections), 27.1ms\n",
      "image 384/740 /home/haziq/Documents/VIP-Project/Detection/VOC2007/yolo-dataset/images/train/IP003000866.jpg: 608x640 (no detections), 26.8ms\n",
      "image 385/740 /home/haziq/Documents/VIP-Project/Detection/VOC2007/yolo-dataset/images/train/IP003000876.jpg: 480x640 (no detections), 26.2ms\n",
      "image 386/740 /home/haziq/Documents/VIP-Project/Detection/VOC2007/yolo-dataset/images/train/IP003000880.jpg: 640x512 (no detections), 24.9ms\n",
      "image 387/740 /home/haziq/Documents/VIP-Project/Detection/VOC2007/yolo-dataset/images/train/IP003000890.jpg: 480x640 (no detections), 26.5ms\n",
      "image 388/740 /home/haziq/Documents/VIP-Project/Detection/VOC2007/yolo-dataset/images/train/IP003000894.jpg: 544x640 1 0, 26.7ms\n",
      "image 389/740 /home/haziq/Documents/VIP-Project/Detection/VOC2007/yolo-dataset/images/train/IP003000908.jpg: 480x640 (no detections), 27.4ms\n",
      "image 390/740 /home/haziq/Documents/VIP-Project/Detection/VOC2007/yolo-dataset/images/train/IP003000909.jpg: 608x640 (no detections), 26.6ms\n",
      "image 391/740 /home/haziq/Documents/VIP-Project/Detection/VOC2007/yolo-dataset/images/train/IP003000916.jpg: 640x384 (no detections), 24.4ms\n",
      "image 392/740 /home/haziq/Documents/VIP-Project/Detection/VOC2007/yolo-dataset/images/train/IP003000961.jpg: 480x640 (no detections), 26.3ms\n",
      "image 393/740 /home/haziq/Documents/VIP-Project/Detection/VOC2007/yolo-dataset/images/train/IP003000962.jpg: 480x640 (no detections), 24.0ms\n",
      "image 394/740 /home/haziq/Documents/VIP-Project/Detection/VOC2007/yolo-dataset/images/train/IP003000979.jpg: 544x640 (no detections), 29.4ms\n",
      "image 395/740 /home/haziq/Documents/VIP-Project/Detection/VOC2007/yolo-dataset/images/train/IP003000990.jpg: 640x512 (no detections), 31.6ms\n",
      "image 396/740 /home/haziq/Documents/VIP-Project/Detection/VOC2007/yolo-dataset/images/train/IP003000991.jpg: 640x512 (no detections), 29.8ms\n",
      "image 397/740 /home/haziq/Documents/VIP-Project/Detection/VOC2007/yolo-dataset/images/train/IP003000996.jpg: 480x640 (no detections), 26.8ms\n",
      "image 398/740 /home/haziq/Documents/VIP-Project/Detection/VOC2007/yolo-dataset/images/train/IP003000998.jpg: 352x640 (no detections), 27.1ms\n",
      "image 399/740 /home/haziq/Documents/VIP-Project/Detection/VOC2007/yolo-dataset/images/train/IP003001006.jpg: 512x640 (no detections), 24.2ms\n",
      "image 400/740 /home/haziq/Documents/VIP-Project/Detection/VOC2007/yolo-dataset/images/train/IP003001018.jpg: 448x640 (no detections), 24.7ms\n",
      "image 401/740 /home/haziq/Documents/VIP-Project/Detection/VOC2007/yolo-dataset/images/train/IP003001028.jpg: 480x640 (no detections), 29.6ms\n",
      "image 402/740 /home/haziq/Documents/VIP-Project/Detection/VOC2007/yolo-dataset/images/train/IP003001032.jpg: 384x640 (no detections), 26.1ms\n",
      "image 403/740 /home/haziq/Documents/VIP-Project/Detection/VOC2007/yolo-dataset/images/train/IP003001033.jpg: 480x640 (no detections), 26.3ms\n",
      "image 404/740 /home/haziq/Documents/VIP-Project/Detection/VOC2007/yolo-dataset/images/train/IP003001039.jpg: 640x480 (no detections), 23.6ms\n",
      "image 405/740 /home/haziq/Documents/VIP-Project/Detection/VOC2007/yolo-dataset/images/train/IP003001040.jpg: 640x480 (no detections), 24.7ms\n",
      "image 406/740 /home/haziq/Documents/VIP-Project/Detection/VOC2007/yolo-dataset/images/train/IP003001042.jpg: 448x640 (no detections), 26.6ms\n",
      "image 407/740 /home/haziq/Documents/VIP-Project/Detection/VOC2007/yolo-dataset/images/train/IP003001045.jpg: 640x608 (no detections), 30.5ms\n",
      "image 408/740 /home/haziq/Documents/VIP-Project/Detection/VOC2007/yolo-dataset/images/train/IP004000001.jpg: 640x608 (no detections), 26.0ms\n",
      "image 409/740 /home/haziq/Documents/VIP-Project/Detection/VOC2007/yolo-dataset/images/train/IP004000106.jpg: 640x480 (no detections), 26.8ms\n",
      "image 410/740 /home/haziq/Documents/VIP-Project/Detection/VOC2007/yolo-dataset/images/train/IP004000117.jpg: 640x448 (no detections), 25.1ms\n",
      "image 411/740 /home/haziq/Documents/VIP-Project/Detection/VOC2007/yolo-dataset/images/train/IP004000122.jpg: 448x640 (no detections), 23.5ms\n",
      "image 412/740 /home/haziq/Documents/VIP-Project/Detection/VOC2007/yolo-dataset/images/train/IP004000126.jpg: 480x640 (no detections), 28.1ms\n",
      "image 413/740 /home/haziq/Documents/VIP-Project/Detection/VOC2007/yolo-dataset/images/train/IP004000132.jpg: 576x640 (no detections), 26.0ms\n",
      "image 414/740 /home/haziq/Documents/VIP-Project/Detection/VOC2007/yolo-dataset/images/train/IP004000141.jpg: 640x384 (no detections), 25.8ms\n",
      "image 415/740 /home/haziq/Documents/VIP-Project/Detection/VOC2007/yolo-dataset/images/train/IP004000142.jpg: 640x416 (no detections), 26.1ms\n",
      "image 416/740 /home/haziq/Documents/VIP-Project/Detection/VOC2007/yolo-dataset/images/train/IP004000149.jpg: 640x576 (no detections), 25.7ms\n",
      "image 417/740 /home/haziq/Documents/VIP-Project/Detection/VOC2007/yolo-dataset/images/train/IP004000154.jpg: 640x544 (no detections), 25.4ms\n",
      "image 418/740 /home/haziq/Documents/VIP-Project/Detection/VOC2007/yolo-dataset/images/train/IP004000155.jpg: 640x640 (no detections), 27.1ms\n",
      "image 419/740 /home/haziq/Documents/VIP-Project/Detection/VOC2007/yolo-dataset/images/train/IP004000168.jpg: 640x576 (no detections), 24.8ms\n",
      "image 420/740 /home/haziq/Documents/VIP-Project/Detection/VOC2007/yolo-dataset/images/train/IP004000193.jpg: 544x640 (no detections), 25.4ms\n",
      "image 421/740 /home/haziq/Documents/VIP-Project/Detection/VOC2007/yolo-dataset/images/train/IP004000195.jpg: 480x640 (no detections), 22.8ms\n",
      "image 422/740 /home/haziq/Documents/VIP-Project/Detection/VOC2007/yolo-dataset/images/train/IP004000213.jpg: 640x416 (no detections), 24.0ms\n",
      "image 423/740 /home/haziq/Documents/VIP-Project/Detection/VOC2007/yolo-dataset/images/train/IP004000220.jpg: 640x640 (no detections), 26.4ms\n",
      "image 424/740 /home/haziq/Documents/VIP-Project/Detection/VOC2007/yolo-dataset/images/train/IP004000226.jpg: 640x640 1 3, 24.9ms\n",
      "image 425/740 /home/haziq/Documents/VIP-Project/Detection/VOC2007/yolo-dataset/images/train/IP004000236.jpg: 640x640 (no detections), 28.8ms\n",
      "image 426/740 /home/haziq/Documents/VIP-Project/Detection/VOC2007/yolo-dataset/images/train/IP004000241.jpg: 640x640 (no detections), 42.2ms\n",
      "image 427/740 /home/haziq/Documents/VIP-Project/Detection/VOC2007/yolo-dataset/images/train/IP004000255.jpg: 416x640 (no detections), 39.0ms\n",
      "image 428/740 /home/haziq/Documents/VIP-Project/Detection/VOC2007/yolo-dataset/images/train/IP004000275.jpg: 608x640 (no detections), 32.5ms\n",
      "image 429/740 /home/haziq/Documents/VIP-Project/Detection/VOC2007/yolo-dataset/images/train/IP004000278.jpg: 480x640 (no detections), 31.4ms\n",
      "image 430/740 /home/haziq/Documents/VIP-Project/Detection/VOC2007/yolo-dataset/images/train/IP004000303.jpg: 608x640 (no detections), 45.5ms\n",
      "image 431/740 /home/haziq/Documents/VIP-Project/Detection/VOC2007/yolo-dataset/images/train/IP004000306.jpg: 640x448 (no detections), 30.6ms\n",
      "image 432/740 /home/haziq/Documents/VIP-Project/Detection/VOC2007/yolo-dataset/images/train/IP004000312.jpg: 640x640 (no detections), 43.0ms\n",
      "image 433/740 /home/haziq/Documents/VIP-Project/Detection/VOC2007/yolo-dataset/images/train/IP004000318.jpg: 640x576 1 4, 43.5ms\n",
      "image 434/740 /home/haziq/Documents/VIP-Project/Detection/VOC2007/yolo-dataset/images/train/IP004000321.jpg: 640x640 (no detections), 31.3ms\n",
      "image 435/740 /home/haziq/Documents/VIP-Project/Detection/VOC2007/yolo-dataset/images/train/IP004000323.jpg: 640x512 (no detections), 23.6ms\n",
      "image 436/740 /home/haziq/Documents/VIP-Project/Detection/VOC2007/yolo-dataset/images/train/IP004000328.jpg: 448x640 (no detections), 27.8ms\n",
      "image 437/740 /home/haziq/Documents/VIP-Project/Detection/VOC2007/yolo-dataset/images/train/IP004000329.jpg: 480x640 (no detections), 25.4ms\n",
      "image 438/740 /home/haziq/Documents/VIP-Project/Detection/VOC2007/yolo-dataset/images/train/IP004000331.jpg: 640x480 (no detections), 25.4ms\n",
      "image 439/740 /home/haziq/Documents/VIP-Project/Detection/VOC2007/yolo-dataset/images/train/IP004000335.jpg: 640x384 (no detections), 24.7ms\n",
      "image 440/740 /home/haziq/Documents/VIP-Project/Detection/VOC2007/yolo-dataset/images/train/IP004000341.jpg: 416x640 (no detections), 23.6ms\n",
      "image 441/740 /home/haziq/Documents/VIP-Project/Detection/VOC2007/yolo-dataset/images/train/IP004000344.jpg: 480x640 (no detections), 21.8ms\n",
      "image 442/740 /home/haziq/Documents/VIP-Project/Detection/VOC2007/yolo-dataset/images/train/IP004000345.jpg: 640x544 (no detections), 23.6ms\n",
      "image 443/740 /home/haziq/Documents/VIP-Project/Detection/VOC2007/yolo-dataset/images/train/IP004000346.jpg: 640x640 (no detections), 26.4ms\n",
      "image 444/740 /home/haziq/Documents/VIP-Project/Detection/VOC2007/yolo-dataset/images/train/IP004000353.jpg: 480x640 (no detections), 24.0ms\n",
      "image 445/740 /home/haziq/Documents/VIP-Project/Detection/VOC2007/yolo-dataset/images/train/IP004000374.jpg: 448x640 (no detections), 23.5ms\n",
      "image 446/740 /home/haziq/Documents/VIP-Project/Detection/VOC2007/yolo-dataset/images/train/IP004000383.jpg: 640x384 (no detections), 22.2ms\n",
      "image 447/740 /home/haziq/Documents/VIP-Project/Detection/VOC2007/yolo-dataset/images/train/IP004000387.jpg: 640x640 (no detections), 28.1ms\n",
      "image 448/740 /home/haziq/Documents/VIP-Project/Detection/VOC2007/yolo-dataset/images/train/IP004000388.jpg: 512x640 (no detections), 22.5ms\n",
      "image 449/740 /home/haziq/Documents/VIP-Project/Detection/VOC2007/yolo-dataset/images/train/IP004000394.jpg: 416x640 (no detections), 24.9ms\n",
      "image 450/740 /home/haziq/Documents/VIP-Project/Detection/VOC2007/yolo-dataset/images/train/IP004000407.jpg: 640x640 1 3, 28.0ms\n",
      "image 451/740 /home/haziq/Documents/VIP-Project/Detection/VOC2007/yolo-dataset/images/train/IP004000417.jpg: 640x640 (no detections), 24.9ms\n",
      "image 452/740 /home/haziq/Documents/VIP-Project/Detection/VOC2007/yolo-dataset/images/train/IP004000422.jpg: 640x640 (no detections), 25.2ms\n",
      "image 453/740 /home/haziq/Documents/VIP-Project/Detection/VOC2007/yolo-dataset/images/train/IP004000424.jpg: 640x640 (no detections), 25.5ms\n",
      "image 454/740 /home/haziq/Documents/VIP-Project/Detection/VOC2007/yolo-dataset/images/train/IP004000426.jpg: 640x512 (no detections), 24.0ms\n",
      "image 455/740 /home/haziq/Documents/VIP-Project/Detection/VOC2007/yolo-dataset/images/train/IP004000438.jpg: 640x608 (no detections), 26.0ms\n",
      "image 456/740 /home/haziq/Documents/VIP-Project/Detection/VOC2007/yolo-dataset/images/train/IP004000439.jpg: 640x608 (no detections), 24.2ms\n",
      "image 457/740 /home/haziq/Documents/VIP-Project/Detection/VOC2007/yolo-dataset/images/train/IP004000440.jpg: 640x608 (no detections), 24.0ms\n",
      "image 458/740 /home/haziq/Documents/VIP-Project/Detection/VOC2007/yolo-dataset/images/train/IP004000444.jpg: 640x640 (no detections), 26.7ms\n",
      "image 459/740 /home/haziq/Documents/VIP-Project/Detection/VOC2007/yolo-dataset/images/train/IP004000447.jpg: 640x608 (no detections), 34.2ms\n",
      "image 460/740 /home/haziq/Documents/VIP-Project/Detection/VOC2007/yolo-dataset/images/train/IP004000451.jpg: 640x576 (no detections), 38.0ms\n",
      "image 461/740 /home/haziq/Documents/VIP-Project/Detection/VOC2007/yolo-dataset/images/train/IP004000453.jpg: 640x608 (no detections), 25.7ms\n",
      "image 462/740 /home/haziq/Documents/VIP-Project/Detection/VOC2007/yolo-dataset/images/train/IP004000457.jpg: 640x608 (no detections), 24.5ms\n",
      "image 463/740 /home/haziq/Documents/VIP-Project/Detection/VOC2007/yolo-dataset/images/train/IP004000459.jpg: 480x640 (no detections), 24.8ms\n",
      "image 464/740 /home/haziq/Documents/VIP-Project/Detection/VOC2007/yolo-dataset/images/train/IP004000467.jpg: 480x640 (no detections), 25.9ms\n",
      "image 465/740 /home/haziq/Documents/VIP-Project/Detection/VOC2007/yolo-dataset/images/train/IP004000469.jpg: 640x640 (no detections), 27.1ms\n",
      "image 466/740 /home/haziq/Documents/VIP-Project/Detection/VOC2007/yolo-dataset/images/train/IP004000472.jpg: 640x512 (no detections), 23.3ms\n",
      "image 467/740 /home/haziq/Documents/VIP-Project/Detection/VOC2007/yolo-dataset/images/train/IP004000478.jpg: 512x640 1 0, 23.4ms\n",
      "image 468/740 /home/haziq/Documents/VIP-Project/Detection/VOC2007/yolo-dataset/images/train/IP004000484.jpg: 640x608 (no detections), 26.1ms\n",
      "image 469/740 /home/haziq/Documents/VIP-Project/Detection/VOC2007/yolo-dataset/images/train/IP004000486.jpg: 640x512 (no detections), 25.3ms\n",
      "image 470/740 /home/haziq/Documents/VIP-Project/Detection/VOC2007/yolo-dataset/images/train/IP004000494.jpg: 640x640 (no detections), 26.5ms\n",
      "image 471/740 /home/haziq/Documents/VIP-Project/Detection/VOC2007/yolo-dataset/images/train/IP005000006.jpg: 480x640 (no detections), 23.2ms\n",
      "image 472/740 /home/haziq/Documents/VIP-Project/Detection/VOC2007/yolo-dataset/images/train/IP005000007.jpg: 640x576 (no detections), 25.1ms\n",
      "image 473/740 /home/haziq/Documents/VIP-Project/Detection/VOC2007/yolo-dataset/images/train/IP005000009.jpg: 640x576 (no detections), 23.9ms\n",
      "image 474/740 /home/haziq/Documents/VIP-Project/Detection/VOC2007/yolo-dataset/images/train/IP005000012.jpg: 512x640 (no detections), 22.8ms\n",
      "image 475/740 /home/haziq/Documents/VIP-Project/Detection/VOC2007/yolo-dataset/images/train/IP005000128.jpg: 416x640 (no detections), 22.7ms\n",
      "image 476/740 /home/haziq/Documents/VIP-Project/Detection/VOC2007/yolo-dataset/images/train/IP005000135.jpg: 448x640 (no detections), 25.0ms\n",
      "image 477/740 /home/haziq/Documents/VIP-Project/Detection/VOC2007/yolo-dataset/images/train/IP005000155.jpg: 608x640 (no detections), 25.3ms\n",
      "image 478/740 /home/haziq/Documents/VIP-Project/Detection/VOC2007/yolo-dataset/images/train/IP005000161.jpg: 448x640 (no detections), 24.3ms\n",
      "image 479/740 /home/haziq/Documents/VIP-Project/Detection/VOC2007/yolo-dataset/images/train/IP005000179.jpg: 352x640 (no detections), 23.1ms\n",
      "image 480/740 /home/haziq/Documents/VIP-Project/Detection/VOC2007/yolo-dataset/images/train/IP005000181.jpg: 448x640 (no detections), 25.1ms\n",
      "image 481/740 /home/haziq/Documents/VIP-Project/Detection/VOC2007/yolo-dataset/images/train/IP005000184.jpg: 640x448 (no detections), 22.9ms\n",
      "image 482/740 /home/haziq/Documents/VIP-Project/Detection/VOC2007/yolo-dataset/images/train/IP005000185.jpg: 640x640 (no detections), 26.7ms\n",
      "image 483/740 /home/haziq/Documents/VIP-Project/Detection/VOC2007/yolo-dataset/images/train/IP005000187.jpg: 640x640 (no detections), 24.9ms\n",
      "image 484/740 /home/haziq/Documents/VIP-Project/Detection/VOC2007/yolo-dataset/images/train/IP005000188.jpg: 448x640 (no detections), 22.3ms\n",
      "image 485/740 /home/haziq/Documents/VIP-Project/Detection/VOC2007/yolo-dataset/images/train/IP005000196.jpg: 480x640 (no detections), 22.3ms\n",
      "image 486/740 /home/haziq/Documents/VIP-Project/Detection/VOC2007/yolo-dataset/images/train/IP005000199.jpg: 640x512 (no detections), 22.8ms\n",
      "image 487/740 /home/haziq/Documents/VIP-Project/Detection/VOC2007/yolo-dataset/images/train/IP005000201.jpg: 640x544 (no detections), 24.3ms\n",
      "image 488/740 /home/haziq/Documents/VIP-Project/Detection/VOC2007/yolo-dataset/images/train/IP005000205.jpg: 640x416 (no detections), 23.3ms\n",
      "image 489/740 /home/haziq/Documents/VIP-Project/Detection/VOC2007/yolo-dataset/images/train/IP005000210.jpg: 544x640 (no detections), 24.9ms\n",
      "image 490/740 /home/haziq/Documents/VIP-Project/Detection/VOC2007/yolo-dataset/images/train/IP005000232.jpg: 512x640 (no detections), 24.5ms\n",
      "image 491/740 /home/haziq/Documents/VIP-Project/Detection/VOC2007/yolo-dataset/images/train/IP005000239.jpg: 480x640 (no detections), 22.9ms\n",
      "image 492/740 /home/haziq/Documents/VIP-Project/Detection/VOC2007/yolo-dataset/images/train/IP005000251.jpg: 640x576 (no detections), 24.6ms\n",
      "image 493/740 /home/haziq/Documents/VIP-Project/Detection/VOC2007/yolo-dataset/images/train/IP005000260.jpg: 480x640 (no detections), 23.9ms\n",
      "image 494/740 /home/haziq/Documents/VIP-Project/Detection/VOC2007/yolo-dataset/images/train/IP005000262.jpg: 640x640 (no detections), 26.7ms\n",
      "image 495/740 /home/haziq/Documents/VIP-Project/Detection/VOC2007/yolo-dataset/images/train/IP005000275.jpg: 480x640 (no detections), 21.6ms\n",
      "image 496/740 /home/haziq/Documents/VIP-Project/Detection/VOC2007/yolo-dataset/images/train/IP005000291.jpg: 640x640 (no detections), 26.9ms\n",
      "image 497/740 /home/haziq/Documents/VIP-Project/Detection/VOC2007/yolo-dataset/images/train/IP005000292.jpg: 480x640 (no detections), 27.5ms\n",
      "image 498/740 /home/haziq/Documents/VIP-Project/Detection/VOC2007/yolo-dataset/images/train/IP005000295.jpg: 416x640 (no detections), 23.2ms\n",
      "image 499/740 /home/haziq/Documents/VIP-Project/Detection/VOC2007/yolo-dataset/images/train/IP005000299.jpg: 480x640 (no detections), 23.6ms\n",
      "image 500/740 /home/haziq/Documents/VIP-Project/Detection/VOC2007/yolo-dataset/images/train/IP005000302.jpg: 640x640 (no detections), 26.7ms\n",
      "image 501/740 /home/haziq/Documents/VIP-Project/Detection/VOC2007/yolo-dataset/images/train/IP005000303.jpg: 576x640 (no detections), 27.1ms\n",
      "image 502/740 /home/haziq/Documents/VIP-Project/Detection/VOC2007/yolo-dataset/images/train/IP005000307.jpg: 512x640 (no detections), 27.8ms\n",
      "image 503/740 /home/haziq/Documents/VIP-Project/Detection/VOC2007/yolo-dataset/images/train/IP005000308.jpg: 544x640 (no detections), 24.2ms\n",
      "image 504/740 /home/haziq/Documents/VIP-Project/Detection/VOC2007/yolo-dataset/images/train/IP005000309.jpg: 640x544 (no detections), 23.7ms\n",
      "image 505/740 /home/haziq/Documents/VIP-Project/Detection/VOC2007/yolo-dataset/images/train/IP005000310.jpg: 448x640 (no detections), 24.3ms\n",
      "image 506/740 /home/haziq/Documents/VIP-Project/Detection/VOC2007/yolo-dataset/images/train/IP005000312.jpg: 640x448 (no detections), 23.6ms\n",
      "image 507/740 /home/haziq/Documents/VIP-Project/Detection/VOC2007/yolo-dataset/images/train/IP005000313.jpg: 544x640 (no detections), 23.6ms\n",
      "image 508/740 /home/haziq/Documents/VIP-Project/Detection/VOC2007/yolo-dataset/images/train/IP005000328.jpg: 480x640 (no detections), 23.8ms\n",
      "image 509/740 /home/haziq/Documents/VIP-Project/Detection/VOC2007/yolo-dataset/images/train/IP005000329.jpg: 480x640 (no detections), 24.4ms\n",
      "image 510/740 /home/haziq/Documents/VIP-Project/Detection/VOC2007/yolo-dataset/images/train/IP005000332.jpg: 480x640 (no detections), 24.5ms\n",
      "image 511/740 /home/haziq/Documents/VIP-Project/Detection/VOC2007/yolo-dataset/images/train/IP005000342.jpg: 480x640 (no detections), 24.1ms\n",
      "image 512/740 /home/haziq/Documents/VIP-Project/Detection/VOC2007/yolo-dataset/images/train/IP005000343.jpg: 640x640 (no detections), 26.2ms\n",
      "image 513/740 /home/haziq/Documents/VIP-Project/Detection/VOC2007/yolo-dataset/images/train/IP005000344.jpg: 480x640 (no detections), 22.9ms\n",
      "image 514/740 /home/haziq/Documents/VIP-Project/Detection/VOC2007/yolo-dataset/images/train/IP005000350.jpg: 512x640 (no detections), 24.0ms\n",
      "image 515/740 /home/haziq/Documents/VIP-Project/Detection/VOC2007/yolo-dataset/images/train/IP005000351.jpg: 512x640 (no detections), 23.9ms\n",
      "image 516/740 /home/haziq/Documents/VIP-Project/Detection/VOC2007/yolo-dataset/images/train/IP005000352.jpg: 512x640 (no detections), 27.3ms\n",
      "image 517/740 /home/haziq/Documents/VIP-Project/Detection/VOC2007/yolo-dataset/images/train/IP005000353.jpg: 512x640 (no detections), 25.8ms\n",
      "image 518/740 /home/haziq/Documents/VIP-Project/Detection/VOC2007/yolo-dataset/images/train/IP005000365.jpg: 640x480 (no detections), 29.7ms\n",
      "image 519/740 /home/haziq/Documents/VIP-Project/Detection/VOC2007/yolo-dataset/images/train/IP005000369.jpg: 640x480 (no detections), 25.6ms\n",
      "image 520/740 /home/haziq/Documents/VIP-Project/Detection/VOC2007/yolo-dataset/images/train/IP005000371.jpg: 640x576 (no detections), 31.6ms\n",
      "image 521/740 /home/haziq/Documents/VIP-Project/Detection/VOC2007/yolo-dataset/images/train/IP005000372.jpg: 416x640 (no detections), 28.2ms\n",
      "image 522/740 /home/haziq/Documents/VIP-Project/Detection/VOC2007/yolo-dataset/images/train/IP005000374.jpg: 448x640 (no detections), 24.5ms\n",
      "image 523/740 /home/haziq/Documents/VIP-Project/Detection/VOC2007/yolo-dataset/images/train/IP005000375.jpg: 448x640 (no detections), 22.6ms\n",
      "image 524/740 /home/haziq/Documents/VIP-Project/Detection/VOC2007/yolo-dataset/images/train/IP005000378.jpg: 640x576 (no detections), 26.3ms\n",
      "image 525/740 /home/haziq/Documents/VIP-Project/Detection/VOC2007/yolo-dataset/images/train/IP005000382.jpg: 640x640 (no detections), 29.0ms\n",
      "image 526/740 /home/haziq/Documents/VIP-Project/Detection/VOC2007/yolo-dataset/images/train/IP005000388.jpg: 576x640 (no detections), 30.6ms\n",
      "image 527/740 /home/haziq/Documents/VIP-Project/Detection/VOC2007/yolo-dataset/images/train/IP005000391.jpg: 576x640 (no detections), 29.1ms\n",
      "image 528/740 /home/haziq/Documents/VIP-Project/Detection/VOC2007/yolo-dataset/images/train/IP005000392.jpg: 576x640 (no detections), 27.1ms\n",
      "image 529/740 /home/haziq/Documents/VIP-Project/Detection/VOC2007/yolo-dataset/images/train/IP005000396.jpg: 640x480 (no detections), 24.8ms\n",
      "image 530/740 /home/haziq/Documents/VIP-Project/Detection/VOC2007/yolo-dataset/images/train/IP005000399.jpg: 448x640 (no detections), 24.1ms\n",
      "image 531/740 /home/haziq/Documents/VIP-Project/Detection/VOC2007/yolo-dataset/images/train/IP005000400.jpg: 448x640 (no detections), 24.5ms\n",
      "image 532/740 /home/haziq/Documents/VIP-Project/Detection/VOC2007/yolo-dataset/images/train/IP005000403.jpg: 640x544 (no detections), 25.1ms\n",
      "image 533/740 /home/haziq/Documents/VIP-Project/Detection/VOC2007/yolo-dataset/images/train/IP005000404.jpg: 640x576 (no detections), 25.0ms\n",
      "image 534/740 /home/haziq/Documents/VIP-Project/Detection/VOC2007/yolo-dataset/images/train/IP005000408.jpg: 640x480 (no detections), 24.0ms\n",
      "image 535/740 /home/haziq/Documents/VIP-Project/Detection/VOC2007/yolo-dataset/images/train/IP005000411.jpg: 576x640 (no detections), 25.6ms\n",
      "image 536/740 /home/haziq/Documents/VIP-Project/Detection/VOC2007/yolo-dataset/images/train/IP005000415.jpg: 576x640 (no detections), 27.5ms\n",
      "image 537/740 /home/haziq/Documents/VIP-Project/Detection/VOC2007/yolo-dataset/images/train/IP005000418.jpg: 640x640 (no detections), 26.1ms\n",
      "image 538/740 /home/haziq/Documents/VIP-Project/Detection/VOC2007/yolo-dataset/images/train/IP005000423.jpg: 640x576 (no detections), 25.5ms\n",
      "image 539/740 /home/haziq/Documents/VIP-Project/Detection/VOC2007/yolo-dataset/images/train/IP005000426.jpg: 448x640 (no detections), 22.9ms\n",
      "image 540/740 /home/haziq/Documents/VIP-Project/Detection/VOC2007/yolo-dataset/images/train/IP005000427.jpg: 448x640 (no detections), 25.3ms\n",
      "image 541/740 /home/haziq/Documents/VIP-Project/Detection/VOC2007/yolo-dataset/images/train/IP005000433.jpg: 640x576 (no detections), 24.4ms\n",
      "image 542/740 /home/haziq/Documents/VIP-Project/Detection/VOC2007/yolo-dataset/images/train/IP005000470.jpg: 640x576 (no detections), 25.2ms\n",
      "image 543/740 /home/haziq/Documents/VIP-Project/Detection/VOC2007/yolo-dataset/images/train/IP005000475.jpg: 480x640 (no detections), 25.7ms\n",
      "image 544/740 /home/haziq/Documents/VIP-Project/Detection/VOC2007/yolo-dataset/images/train/IP005000487.jpg: 512x640 (no detections), 22.6ms\n",
      "image 545/740 /home/haziq/Documents/VIP-Project/Detection/VOC2007/yolo-dataset/images/train/IP005000500.jpg: 640x640 (no detections), 27.6ms\n",
      "image 546/740 /home/haziq/Documents/VIP-Project/Detection/VOC2007/yolo-dataset/images/train/IP006000009.jpg: 448x640 (no detections), 24.8ms\n",
      "image 547/740 /home/haziq/Documents/VIP-Project/Detection/VOC2007/yolo-dataset/images/train/IP006000271.jpg: 480x640 (no detections), 21.8ms\n",
      "image 548/740 /home/haziq/Documents/VIP-Project/Detection/VOC2007/yolo-dataset/images/train/IP006000273.jpg: 480x640 (no detections), 21.3ms\n",
      "image 549/740 /home/haziq/Documents/VIP-Project/Detection/VOC2007/yolo-dataset/images/train/IP006000294.jpg: 544x640 (no detections), 25.1ms\n",
      "image 550/740 /home/haziq/Documents/VIP-Project/Detection/VOC2007/yolo-dataset/images/train/IP006000300.jpg: 480x640 (no detections), 27.1ms\n",
      "image 551/740 /home/haziq/Documents/VIP-Project/Detection/VOC2007/yolo-dataset/images/train/IP006000301.jpg: 480x640 (no detections), 22.1ms\n",
      "image 552/740 /home/haziq/Documents/VIP-Project/Detection/VOC2007/yolo-dataset/images/train/IP006000303.jpg: 480x640 (no detections), 23.6ms\n",
      "image 553/740 /home/haziq/Documents/VIP-Project/Detection/VOC2007/yolo-dataset/images/train/IP006000307.jpg: 384x640 (no detections), 23.5ms\n",
      "image 554/740 /home/haziq/Documents/VIP-Project/Detection/VOC2007/yolo-dataset/images/train/IP006000311.jpg: 480x640 (no detections), 32.9ms\n",
      "image 555/740 /home/haziq/Documents/VIP-Project/Detection/VOC2007/yolo-dataset/images/train/IP006000368.jpg: 480x640 (no detections), 23.6ms\n",
      "image 556/740 /home/haziq/Documents/VIP-Project/Detection/VOC2007/yolo-dataset/images/train/IP007000004.jpg: 480x640 (no detections), 22.9ms\n",
      "image 557/740 /home/haziq/Documents/VIP-Project/Detection/VOC2007/yolo-dataset/images/train/IP007000006.jpg: 480x640 (no detections), 25.2ms\n",
      "image 558/740 /home/haziq/Documents/VIP-Project/Detection/VOC2007/yolo-dataset/images/train/IP007000007.jpg: 448x640 (no detections), 33.5ms\n",
      "image 559/740 /home/haziq/Documents/VIP-Project/Detection/VOC2007/yolo-dataset/images/train/IP007000150.jpg: 480x640 (no detections), 27.8ms\n",
      "image 560/740 /home/haziq/Documents/VIP-Project/Detection/VOC2007/yolo-dataset/images/train/IP007000151.jpg: 480x640 (no detections), 25.0ms\n",
      "image 561/740 /home/haziq/Documents/VIP-Project/Detection/VOC2007/yolo-dataset/images/train/IP007000152.jpg: 480x640 (no detections), 27.4ms\n",
      "image 562/740 /home/haziq/Documents/VIP-Project/Detection/VOC2007/yolo-dataset/images/train/IP007000153.jpg: 512x640 (no detections), 33.2ms\n",
      "image 563/740 /home/haziq/Documents/VIP-Project/Detection/VOC2007/yolo-dataset/images/train/IP007000154.jpg: 576x640 (no detections), 29.6ms\n",
      "image 564/740 /home/haziq/Documents/VIP-Project/Detection/VOC2007/yolo-dataset/images/train/IP007000155.jpg: 480x640 (no detections), 22.8ms\n",
      "image 565/740 /home/haziq/Documents/VIP-Project/Detection/VOC2007/yolo-dataset/images/train/IP007000156.jpg: 480x640 (no detections), 24.2ms\n",
      "image 566/740 /home/haziq/Documents/VIP-Project/Detection/VOC2007/yolo-dataset/images/train/IP007000160.jpg: 480x640 (no detections), 25.7ms\n",
      "image 567/740 /home/haziq/Documents/VIP-Project/Detection/VOC2007/yolo-dataset/images/train/IP007000161.jpg: 480x640 (no detections), 23.8ms\n",
      "image 568/740 /home/haziq/Documents/VIP-Project/Detection/VOC2007/yolo-dataset/images/train/IP007000162.jpg: 608x640 (no detections), 25.3ms\n",
      "image 569/740 /home/haziq/Documents/VIP-Project/Detection/VOC2007/yolo-dataset/images/train/IP007000163.jpg: 448x640 (no detections), 23.2ms\n",
      "image 570/740 /home/haziq/Documents/VIP-Project/Detection/VOC2007/yolo-dataset/images/train/IP007000164.jpg: 640x640 (no detections), 26.2ms\n",
      "image 571/740 /home/haziq/Documents/VIP-Project/Detection/VOC2007/yolo-dataset/images/train/IP007000165.jpg: 512x640 (no detections), 39.6ms\n",
      "image 572/740 /home/haziq/Documents/VIP-Project/Detection/VOC2007/yolo-dataset/images/train/IP007000166.jpg: 512x640 (no detections), 23.7ms\n",
      "image 573/740 /home/haziq/Documents/VIP-Project/Detection/VOC2007/yolo-dataset/images/train/IP007000167.jpg: 544x640 (no detections), 25.3ms\n",
      "image 574/740 /home/haziq/Documents/VIP-Project/Detection/VOC2007/yolo-dataset/images/train/IP007000168.jpg: 576x640 (no detections), 25.1ms\n",
      "image 575/740 /home/haziq/Documents/VIP-Project/Detection/VOC2007/yolo-dataset/images/train/IP007000170.jpg: 544x640 (no detections), 24.5ms\n",
      "image 576/740 /home/haziq/Documents/VIP-Project/Detection/VOC2007/yolo-dataset/images/train/IP007000171.jpg: 512x640 (no detections), 22.6ms\n",
      "image 577/740 /home/haziq/Documents/VIP-Project/Detection/VOC2007/yolo-dataset/images/train/IP007000172.jpg: 608x640 (no detections), 25.4ms\n",
      "image 578/740 /home/haziq/Documents/VIP-Project/Detection/VOC2007/yolo-dataset/images/train/IP007000173.jpg: 512x640 (no detections), 23.8ms\n",
      "image 579/740 /home/haziq/Documents/VIP-Project/Detection/VOC2007/yolo-dataset/images/train/IP007000174.jpg: 544x640 (no detections), 27.1ms\n",
      "image 580/740 /home/haziq/Documents/VIP-Project/Detection/VOC2007/yolo-dataset/images/train/IP007000175.jpg: 544x640 (no detections), 23.2ms\n",
      "image 581/740 /home/haziq/Documents/VIP-Project/Detection/VOC2007/yolo-dataset/images/train/IP007000176.jpg: 544x640 (no detections), 23.2ms\n",
      "image 582/740 /home/haziq/Documents/VIP-Project/Detection/VOC2007/yolo-dataset/images/train/IP007000177.jpg: 544x640 (no detections), 23.3ms\n",
      "image 583/740 /home/haziq/Documents/VIP-Project/Detection/VOC2007/yolo-dataset/images/train/IP007000178.jpg: 544x640 (no detections), 22.9ms\n",
      "image 584/740 /home/haziq/Documents/VIP-Project/Detection/VOC2007/yolo-dataset/images/train/IP007000179.jpg: 640x608 (no detections), 25.1ms\n",
      "image 585/740 /home/haziq/Documents/VIP-Project/Detection/VOC2007/yolo-dataset/images/train/IP007000180.jpg: 576x640 (no detections), 24.8ms\n",
      "image 586/740 /home/haziq/Documents/VIP-Project/Detection/VOC2007/yolo-dataset/images/train/IP007000181.jpg: 640x608 (no detections), 25.9ms\n",
      "image 587/740 /home/haziq/Documents/VIP-Project/Detection/VOC2007/yolo-dataset/images/train/IP007000182.jpg: 608x640 (no detections), 25.4ms\n",
      "image 588/740 /home/haziq/Documents/VIP-Project/Detection/VOC2007/yolo-dataset/images/train/IP007000183.jpg: 576x640 (no detections), 25.0ms\n",
      "image 589/740 /home/haziq/Documents/VIP-Project/Detection/VOC2007/yolo-dataset/images/train/IP007000184.jpg: 608x640 (no detections), 25.5ms\n",
      "image 590/740 /home/haziq/Documents/VIP-Project/Detection/VOC2007/yolo-dataset/images/train/IP007000185.jpg: 608x640 (no detections), 23.7ms\n",
      "image 591/740 /home/haziq/Documents/VIP-Project/Detection/VOC2007/yolo-dataset/images/train/IP007000186.jpg: 608x640 (no detections), 25.8ms\n",
      "image 592/740 /home/haziq/Documents/VIP-Project/Detection/VOC2007/yolo-dataset/images/train/IP007000193.jpg: 640x448 (no detections), 33.0ms\n",
      "image 593/740 /home/haziq/Documents/VIP-Project/Detection/VOC2007/yolo-dataset/images/train/IP007000199.jpg: 640x480 (no detections), 25.3ms\n",
      "image 594/740 /home/haziq/Documents/VIP-Project/Detection/VOC2007/yolo-dataset/images/train/IP007000211.jpg: 576x640 (no detections), 25.2ms\n",
      "image 595/740 /home/haziq/Documents/VIP-Project/Detection/VOC2007/yolo-dataset/images/train/IP007000213.jpg: 608x640 (no detections), 26.2ms\n",
      "image 596/740 /home/haziq/Documents/VIP-Project/Detection/VOC2007/yolo-dataset/images/train/IP007000217.jpg: 544x640 (no detections), 24.4ms\n",
      "image 597/740 /home/haziq/Documents/VIP-Project/Detection/VOC2007/yolo-dataset/images/train/IP007000241.jpg: 544x640 (no detections), 24.2ms\n",
      "image 598/740 /home/haziq/Documents/VIP-Project/Detection/VOC2007/yolo-dataset/images/train/IP007000276.jpg: 640x416 (no detections), 25.0ms\n",
      "image 599/740 /home/haziq/Documents/VIP-Project/Detection/VOC2007/yolo-dataset/images/train/IP007000283.jpg: 640x352 (no detections), 22.2ms\n",
      "image 600/740 /home/haziq/Documents/VIP-Project/Detection/VOC2007/yolo-dataset/images/train/IP007000287.jpg: 512x640 (no detections), 24.0ms\n",
      "image 601/740 /home/haziq/Documents/VIP-Project/Detection/VOC2007/yolo-dataset/images/train/IP007000303.jpg: 640x448 (no detections), 30.3ms\n",
      "image 602/740 /home/haziq/Documents/VIP-Project/Detection/VOC2007/yolo-dataset/images/train/IP007000373.jpg: 640x640 (no detections), 30.2ms\n",
      "image 603/740 /home/haziq/Documents/VIP-Project/Detection/VOC2007/yolo-dataset/images/train/IP007000380.jpg: 352x640 (no detections), 23.4ms\n",
      "image 604/740 /home/haziq/Documents/VIP-Project/Detection/VOC2007/yolo-dataset/images/train/IP007000386.jpg: 416x640 (no detections), 25.2ms\n",
      "image 605/740 /home/haziq/Documents/VIP-Project/Detection/VOC2007/yolo-dataset/images/train/IP007000405.jpg: 512x640 (no detections), 24.4ms\n",
      "image 606/740 /home/haziq/Documents/VIP-Project/Detection/VOC2007/yolo-dataset/images/train/IP007000411.jpg: 448x640 (no detections), 25.0ms\n",
      "image 607/740 /home/haziq/Documents/VIP-Project/Detection/VOC2007/yolo-dataset/images/train/IP007000425.jpg: 448x640 (no detections), 23.9ms\n",
      "image 608/740 /home/haziq/Documents/VIP-Project/Detection/VOC2007/yolo-dataset/images/train/IP007000489.jpg: 640x448 (no detections), 23.5ms\n",
      "image 609/740 /home/haziq/Documents/VIP-Project/Detection/VOC2007/yolo-dataset/images/train/IP007000495.jpg: 448x640 (no detections), 24.6ms\n",
      "image 610/740 /home/haziq/Documents/VIP-Project/Detection/VOC2007/yolo-dataset/images/train/IP007000499.jpg: 640x576 (no detections), 25.5ms\n",
      "image 611/740 /home/haziq/Documents/VIP-Project/Detection/VOC2007/yolo-dataset/images/train/IP007000511.jpg: 448x640 (no detections), 24.9ms\n",
      "image 612/740 /home/haziq/Documents/VIP-Project/Detection/VOC2007/yolo-dataset/images/train/IP007000514.jpg: 448x640 (no detections), 26.3ms\n",
      "image 613/740 /home/haziq/Documents/VIP-Project/Detection/VOC2007/yolo-dataset/images/train/IP007000515.jpg: 480x640 (no detections), 22.7ms\n",
      "image 614/740 /home/haziq/Documents/VIP-Project/Detection/VOC2007/yolo-dataset/images/train/IP007000522.jpg: 480x640 (no detections), 22.1ms\n",
      "image 615/740 /home/haziq/Documents/VIP-Project/Detection/VOC2007/yolo-dataset/images/train/IP007000543.jpg: 544x640 (no detections), 24.6ms\n",
      "image 616/740 /home/haziq/Documents/VIP-Project/Detection/VOC2007/yolo-dataset/images/train/IP007000549.jpg: 480x640 (no detections), 23.3ms\n",
      "image 617/740 /home/haziq/Documents/VIP-Project/Detection/VOC2007/yolo-dataset/images/train/IP007000560.jpg: 512x640 (no detections), 23.1ms\n",
      "image 618/740 /home/haziq/Documents/VIP-Project/Detection/VOC2007/yolo-dataset/images/train/IP007000561.jpg: 448x640 (no detections), 24.4ms\n",
      "image 619/740 /home/haziq/Documents/VIP-Project/Detection/VOC2007/yolo-dataset/images/train/IP007000566.jpg: 416x640 (no detections), 25.2ms\n",
      "image 620/740 /home/haziq/Documents/VIP-Project/Detection/VOC2007/yolo-dataset/images/train/IP007000569.jpg: 480x640 (no detections), 23.9ms\n",
      "image 621/740 /home/haziq/Documents/VIP-Project/Detection/VOC2007/yolo-dataset/images/train/IP007000571.jpg: 576x640 (no detections), 25.2ms\n",
      "image 622/740 /home/haziq/Documents/VIP-Project/Detection/VOC2007/yolo-dataset/images/train/IP007000578.jpg: 640x480 (no detections), 24.3ms\n",
      "image 623/740 /home/haziq/Documents/VIP-Project/Detection/VOC2007/yolo-dataset/images/train/IP007000586.jpg: 544x640 (no detections), 24.5ms\n",
      "image 624/740 /home/haziq/Documents/VIP-Project/Detection/VOC2007/yolo-dataset/images/train/IP007000592.jpg: 416x640 (no detections), 24.2ms\n",
      "image 625/740 /home/haziq/Documents/VIP-Project/Detection/VOC2007/yolo-dataset/images/train/IP007000596.jpg: 640x640 (no detections), 26.8ms\n",
      "image 626/740 /home/haziq/Documents/VIP-Project/Detection/VOC2007/yolo-dataset/images/train/IP007000598.jpg: 480x640 (no detections), 23.2ms\n",
      "image 627/740 /home/haziq/Documents/VIP-Project/Detection/VOC2007/yolo-dataset/images/train/IP007000599.jpg: 640x480 (no detections), 24.3ms\n",
      "image 628/740 /home/haziq/Documents/VIP-Project/Detection/VOC2007/yolo-dataset/images/train/IP007000601.jpg: 640x640 (no detections), 25.7ms\n",
      "image 629/740 /home/haziq/Documents/VIP-Project/Detection/VOC2007/yolo-dataset/images/train/IP007000607.jpg: 448x640 (no detections), 22.4ms\n",
      "image 630/740 /home/haziq/Documents/VIP-Project/Detection/VOC2007/yolo-dataset/images/train/IP007000610.jpg: 640x640 (no detections), 26.7ms\n",
      "image 631/740 /home/haziq/Documents/VIP-Project/Detection/VOC2007/yolo-dataset/images/train/IP007000613.jpg: 608x640 (no detections), 25.1ms\n",
      "image 632/740 /home/haziq/Documents/VIP-Project/Detection/VOC2007/yolo-dataset/images/train/IP007000625.jpg: 640x640 (no detections), 25.7ms\n",
      "image 633/740 /home/haziq/Documents/VIP-Project/Detection/VOC2007/yolo-dataset/images/train/IP007000629.jpg: 448x640 (no detections), 28.0ms\n",
      "image 634/740 /home/haziq/Documents/VIP-Project/Detection/VOC2007/yolo-dataset/images/train/IP007000646.jpg: 640x384 (no detections), 23.2ms\n",
      "image 635/740 /home/haziq/Documents/VIP-Project/Detection/VOC2007/yolo-dataset/images/train/IP007000650.jpg: 640x448 (no detections), 24.0ms\n",
      "image 636/740 /home/haziq/Documents/VIP-Project/Detection/VOC2007/yolo-dataset/images/train/IP007000658.jpg: 608x640 (no detections), 25.7ms\n",
      "image 637/740 /home/haziq/Documents/VIP-Project/Detection/VOC2007/yolo-dataset/images/train/IP007000664.jpg: 480x640 (no detections), 24.2ms\n",
      "image 638/740 /home/haziq/Documents/VIP-Project/Detection/VOC2007/yolo-dataset/images/train/IP007000666.jpg: 480x640 (no detections), 22.5ms\n",
      "image 639/740 /home/haziq/Documents/VIP-Project/Detection/VOC2007/yolo-dataset/images/train/IP007000675.jpg: 480x640 (no detections), 23.2ms\n",
      "image 640/740 /home/haziq/Documents/VIP-Project/Detection/VOC2007/yolo-dataset/images/train/IP007000701.jpg: 640x608 (no detections), 25.8ms\n",
      "image 641/740 /home/haziq/Documents/VIP-Project/Detection/VOC2007/yolo-dataset/images/train/IP007000710.jpg: 480x640 (no detections), 23.2ms\n",
      "image 642/740 /home/haziq/Documents/VIP-Project/Detection/VOC2007/yolo-dataset/images/train/IP007000730.jpg: 480x640 (no detections), 21.3ms\n",
      "image 643/740 /home/haziq/Documents/VIP-Project/Detection/VOC2007/yolo-dataset/images/train/IP007000736.jpg: 640x448 (no detections), 25.9ms\n",
      "image 644/740 /home/haziq/Documents/VIP-Project/Detection/VOC2007/yolo-dataset/images/train/IP007000741.jpg: 416x640 (no detections), 25.0ms\n",
      "image 645/740 /home/haziq/Documents/VIP-Project/Detection/VOC2007/yolo-dataset/images/train/IP007000757.jpg: 512x640 (no detections), 23.8ms\n",
      "image 646/740 /home/haziq/Documents/VIP-Project/Detection/VOC2007/yolo-dataset/images/train/IP007000762.jpg: 640x448 (no detections), 22.7ms\n",
      "image 647/740 /home/haziq/Documents/VIP-Project/Detection/VOC2007/yolo-dataset/images/train/IP007000784.jpg: 448x640 (no detections), 23.5ms\n",
      "image 648/740 /home/haziq/Documents/VIP-Project/Detection/VOC2007/yolo-dataset/images/train/IP007000821.jpg: 384x640 (no detections), 25.1ms\n",
      "image 649/740 /home/haziq/Documents/VIP-Project/Detection/VOC2007/yolo-dataset/images/train/IP008000120.jpg: 640x608 (no detections), 25.6ms\n",
      "image 650/740 /home/haziq/Documents/VIP-Project/Detection/VOC2007/yolo-dataset/images/train/IP008000121.jpg: 480x640 (no detections), 29.3ms\n",
      "image 651/740 /home/haziq/Documents/VIP-Project/Detection/VOC2007/yolo-dataset/images/train/IP008000122.jpg: 640x448 (no detections), 22.2ms\n",
      "image 652/740 /home/haziq/Documents/VIP-Project/Detection/VOC2007/yolo-dataset/images/train/IP008000129.jpg: 640x608 (no detections), 26.1ms\n",
      "image 653/740 /home/haziq/Documents/VIP-Project/Detection/VOC2007/yolo-dataset/images/train/IP008000132.jpg: 448x640 (no detections), 23.0ms\n",
      "image 654/740 /home/haziq/Documents/VIP-Project/Detection/VOC2007/yolo-dataset/images/train/IP008000133.jpg: 640x480 (no detections), 24.0ms\n",
      "image 655/740 /home/haziq/Documents/VIP-Project/Detection/VOC2007/yolo-dataset/images/train/IP008000134.jpg: 448x640 (no detections), 25.2ms\n",
      "image 656/740 /home/haziq/Documents/VIP-Project/Detection/VOC2007/yolo-dataset/images/train/IP008000135.jpg: 416x640 (no detections), 25.7ms\n",
      "image 657/740 /home/haziq/Documents/VIP-Project/Detection/VOC2007/yolo-dataset/images/train/IP008000136.jpg: 512x640 (no detections), 24.8ms\n",
      "image 658/740 /home/haziq/Documents/VIP-Project/Detection/VOC2007/yolo-dataset/images/train/IP008000137.jpg: 448x640 (no detections), 23.7ms\n",
      "image 659/740 /home/haziq/Documents/VIP-Project/Detection/VOC2007/yolo-dataset/images/train/IP008000138.jpg: 640x384 (no detections), 22.7ms\n",
      "image 660/740 /home/haziq/Documents/VIP-Project/Detection/VOC2007/yolo-dataset/images/train/IP008000139.jpg: 640x544 (no detections), 24.8ms\n",
      "image 661/740 /home/haziq/Documents/VIP-Project/Detection/VOC2007/yolo-dataset/images/train/IP008000141.jpg: 640x480 (no detections), 23.3ms\n",
      "image 662/740 /home/haziq/Documents/VIP-Project/Detection/VOC2007/yolo-dataset/images/train/IP008000157.jpg: 640x640 (no detections), 27.8ms\n",
      "image 663/740 /home/haziq/Documents/VIP-Project/Detection/VOC2007/yolo-dataset/images/train/IP008000159.jpg: 640x576 (no detections), 25.2ms\n",
      "image 664/740 /home/haziq/Documents/VIP-Project/Detection/VOC2007/yolo-dataset/images/train/IP008000169.jpg: 480x640 (no detections), 24.5ms\n",
      "image 665/740 /home/haziq/Documents/VIP-Project/Detection/VOC2007/yolo-dataset/images/train/IP008000173.jpg: 448x640 (no detections), 23.7ms\n",
      "image 666/740 /home/haziq/Documents/VIP-Project/Detection/VOC2007/yolo-dataset/images/train/IP008000180.jpg: 544x640 (no detections), 24.4ms\n",
      "image 667/740 /home/haziq/Documents/VIP-Project/Detection/VOC2007/yolo-dataset/images/train/IP008000192.jpg: 448x640 (no detections), 25.4ms\n",
      "image 668/740 /home/haziq/Documents/VIP-Project/Detection/VOC2007/yolo-dataset/images/train/IP008000206.jpg: 512x640 (no detections), 24.8ms\n",
      "image 669/740 /home/haziq/Documents/VIP-Project/Detection/VOC2007/yolo-dataset/images/train/IP008000257.jpg: 384x640 (no detections), 24.3ms\n",
      "image 670/740 /home/haziq/Documents/VIP-Project/Detection/VOC2007/yolo-dataset/images/train/IP008000269.jpg: 640x352 (no detections), 33.1ms\n",
      "image 671/740 /home/haziq/Documents/VIP-Project/Detection/VOC2007/yolo-dataset/images/train/IP008000301.jpg: 512x640 (no detections), 24.1ms\n",
      "image 672/740 /home/haziq/Documents/VIP-Project/Detection/VOC2007/yolo-dataset/images/train/IP008000304.jpg: 640x512 (no detections), 24.9ms\n",
      "image 673/740 /home/haziq/Documents/VIP-Project/Detection/VOC2007/yolo-dataset/images/train/IP008000318.jpg: 640x640 (no detections), 25.7ms\n",
      "image 674/740 /home/haziq/Documents/VIP-Project/Detection/VOC2007/yolo-dataset/images/train/IP008000329.jpg: 640x448 (no detections), 23.9ms\n",
      "image 675/740 /home/haziq/Documents/VIP-Project/Detection/VOC2007/yolo-dataset/images/train/IP008000330.jpg: 640x352 (no detections), 23.7ms\n",
      "image 676/740 /home/haziq/Documents/VIP-Project/Detection/VOC2007/yolo-dataset/images/train/IP008000338.jpg: 640x544 (no detections), 24.0ms\n",
      "image 677/740 /home/haziq/Documents/VIP-Project/Detection/VOC2007/yolo-dataset/images/train/IP008000347.jpg: 576x640 (no detections), 24.3ms\n",
      "image 678/740 /home/haziq/Documents/VIP-Project/Detection/VOC2007/yolo-dataset/images/train/IP008000358.jpg: 640x480 (no detections), 23.1ms\n",
      "image 679/740 /home/haziq/Documents/VIP-Project/Detection/VOC2007/yolo-dataset/images/train/IP008000360.jpg: 544x640 (no detections), 24.7ms\n",
      "image 680/740 /home/haziq/Documents/VIP-Project/Detection/VOC2007/yolo-dataset/images/train/IP008000367.jpg: 416x640 (no detections), 24.0ms\n",
      "image 681/740 /home/haziq/Documents/VIP-Project/Detection/VOC2007/yolo-dataset/images/train/IP008000368.jpg: 512x640 (no detections), 24.5ms\n",
      "image 682/740 /home/haziq/Documents/VIP-Project/Detection/VOC2007/yolo-dataset/images/train/IP008000402.jpg: 512x640 (no detections), 23.9ms\n",
      "image 683/740 /home/haziq/Documents/VIP-Project/Detection/VOC2007/yolo-dataset/images/train/IP008000418.jpg: 640x512 (no detections), 24.3ms\n",
      "image 684/740 /home/haziq/Documents/VIP-Project/Detection/VOC2007/yolo-dataset/images/train/IP008000460.jpg: 640x352 (no detections), 23.1ms\n",
      "image 685/740 /home/haziq/Documents/VIP-Project/Detection/VOC2007/yolo-dataset/images/train/IP008000468.jpg: 448x640 (no detections), 22.7ms\n",
      "image 686/740 /home/haziq/Documents/VIP-Project/Detection/VOC2007/yolo-dataset/images/train/IP008000494.jpg: 640x448 (no detections), 21.8ms\n",
      "image 687/740 /home/haziq/Documents/VIP-Project/Detection/VOC2007/yolo-dataset/images/train/IP008000495.jpg: 640x480 (no detections), 23.5ms\n",
      "image 688/740 /home/haziq/Documents/VIP-Project/Detection/VOC2007/yolo-dataset/images/train/IP008000500.jpg: 448x640 (no detections), 22.2ms\n",
      "image 689/740 /home/haziq/Documents/VIP-Project/Detection/VOC2007/yolo-dataset/images/train/IP008000508.jpg: 640x448 (no detections), 23.4ms\n",
      "image 690/740 /home/haziq/Documents/VIP-Project/Detection/VOC2007/yolo-dataset/images/train/IP008000518.jpg: 640x448 (no detections), 22.2ms\n",
      "image 691/740 /home/haziq/Documents/VIP-Project/Detection/VOC2007/yolo-dataset/images/train/IP008000526.jpg: 640x448 (no detections), 26.5ms\n",
      "image 692/740 /home/haziq/Documents/VIP-Project/Detection/VOC2007/yolo-dataset/images/train/IP008000547.jpg: 640x416 (no detections), 23.2ms\n",
      "image 693/740 /home/haziq/Documents/VIP-Project/Detection/VOC2007/yolo-dataset/images/train/IP008000550.jpg: 640x576 (no detections), 25.0ms\n",
      "image 694/740 /home/haziq/Documents/VIP-Project/Detection/VOC2007/yolo-dataset/images/train/IP008000552.jpg: 448x640 (no detections), 23.0ms\n",
      "image 695/740 /home/haziq/Documents/VIP-Project/Detection/VOC2007/yolo-dataset/images/train/IP008000568.jpg: 640x608 (no detections), 26.3ms\n",
      "image 696/740 /home/haziq/Documents/VIP-Project/Detection/VOC2007/yolo-dataset/images/train/IP008000574.jpg: 512x640 (no detections), 24.0ms\n",
      "image 697/740 /home/haziq/Documents/VIP-Project/Detection/VOC2007/yolo-dataset/images/train/IP008000577.jpg: 640x608 (no detections), 25.6ms\n",
      "image 698/740 /home/haziq/Documents/VIP-Project/Detection/VOC2007/yolo-dataset/images/train/IP008000616.jpg: 416x640 (no detections), 24.2ms\n",
      "image 699/740 /home/haziq/Documents/VIP-Project/Detection/VOC2007/yolo-dataset/images/train/IP008000626.jpg: 640x448 (no detections), 23.7ms\n",
      "image 700/740 /home/haziq/Documents/VIP-Project/Detection/VOC2007/yolo-dataset/images/train/IP008000627.jpg: 640x480 (no detections), 23.8ms\n",
      "image 701/740 /home/haziq/Documents/VIP-Project/Detection/VOC2007/yolo-dataset/images/train/IP008000680.jpg: 544x640 (no detections), 25.2ms\n",
      "image 702/740 /home/haziq/Documents/VIP-Project/Detection/VOC2007/yolo-dataset/images/train/IP008000681.jpg: 640x640 (no detections), 41.6ms\n",
      "image 703/740 /home/haziq/Documents/VIP-Project/Detection/VOC2007/yolo-dataset/images/train/IP008000703.jpg: 640x384 (no detections), 24.9ms\n",
      "image 704/740 /home/haziq/Documents/VIP-Project/Detection/VOC2007/yolo-dataset/images/train/IP008000720.jpg: 512x640 (no detections), 25.5ms\n",
      "image 705/740 /home/haziq/Documents/VIP-Project/Detection/VOC2007/yolo-dataset/images/train/IP008000763.jpg: 640x384 (no detections), 28.8ms\n",
      "image 706/740 /home/haziq/Documents/VIP-Project/Detection/VOC2007/yolo-dataset/images/train/IP008000781.jpg: 512x640 (no detections), 25.6ms\n",
      "image 707/740 /home/haziq/Documents/VIP-Project/Detection/VOC2007/yolo-dataset/images/train/IP008000889.jpg: 576x640 (no detections), 36.1ms\n",
      "image 708/740 /home/haziq/Documents/VIP-Project/Detection/VOC2007/yolo-dataset/images/train/IP008000892.jpg: 512x640 (no detections), 37.8ms\n",
      "image 709/740 /home/haziq/Documents/VIP-Project/Detection/VOC2007/yolo-dataset/images/train/IP009000118.jpg: 480x640 (no detections), 48.5ms\n",
      "image 710/740 /home/haziq/Documents/VIP-Project/Detection/VOC2007/yolo-dataset/images/train/IP009000123.jpg: 512x640 (no detections), 35.9ms\n",
      "image 711/740 /home/haziq/Documents/VIP-Project/Detection/VOC2007/yolo-dataset/images/train/IP009000128.jpg: 448x640 (no detections), 25.0ms\n",
      "image 712/740 /home/haziq/Documents/VIP-Project/Detection/VOC2007/yolo-dataset/images/train/IP009000148.jpg: 544x640 (no detections), 34.9ms\n",
      "image 713/740 /home/haziq/Documents/VIP-Project/Detection/VOC2007/yolo-dataset/images/train/IP009000151.jpg: 448x640 (no detections), 44.5ms\n",
      "image 714/740 /home/haziq/Documents/VIP-Project/Detection/VOC2007/yolo-dataset/images/train/IP009000166.jpg: 512x640 (no detections), 33.8ms\n",
      "image 715/740 /home/haziq/Documents/VIP-Project/Detection/VOC2007/yolo-dataset/images/train/IP009000167.jpg: 640x576 (no detections), 27.9ms\n",
      "image 716/740 /home/haziq/Documents/VIP-Project/Detection/VOC2007/yolo-dataset/images/train/IP009000174.jpg: 448x640 (no detections), 34.1ms\n",
      "image 717/740 /home/haziq/Documents/VIP-Project/Detection/VOC2007/yolo-dataset/images/train/IP009000177.jpg: 512x640 (no detections), 38.4ms\n",
      "image 718/740 /home/haziq/Documents/VIP-Project/Detection/VOC2007/yolo-dataset/images/train/IP009000181.jpg: 608x640 (no detections), 30.2ms\n",
      "image 719/740 /home/haziq/Documents/VIP-Project/Detection/VOC2007/yolo-dataset/images/train/IP009000235.jpg: 448x640 (no detections), 28.7ms\n",
      "image 720/740 /home/haziq/Documents/VIP-Project/Detection/VOC2007/yolo-dataset/images/train/IP009000247.jpg: 448x640 (no detections), 29.4ms\n",
      "image 721/740 /home/haziq/Documents/VIP-Project/Detection/VOC2007/yolo-dataset/images/train/IP009000249.jpg: 416x640 (no detections), 34.4ms\n",
      "image 722/740 /home/haziq/Documents/VIP-Project/Detection/VOC2007/yolo-dataset/images/train/IP009000250.jpg: 640x544 (no detections), 34.2ms\n",
      "image 723/740 /home/haziq/Documents/VIP-Project/Detection/VOC2007/yolo-dataset/images/train/IP009000265.jpg: 640x448 (no detections), 25.7ms\n",
      "image 724/740 /home/haziq/Documents/VIP-Project/Detection/VOC2007/yolo-dataset/images/train/IP009000268.jpg: 480x640 (no detections), 26.8ms\n",
      "image 725/740 /home/haziq/Documents/VIP-Project/Detection/VOC2007/yolo-dataset/images/train/IP009000405.jpg: 640x640 (no detections), 29.1ms\n",
      "image 726/740 /home/haziq/Documents/VIP-Project/Detection/VOC2007/yolo-dataset/images/train/IP009000407.jpg: 416x640 (no detections), 27.9ms\n",
      "image 727/740 /home/haziq/Documents/VIP-Project/Detection/VOC2007/yolo-dataset/images/train/IP009000412.jpg: 640x448 (no detections), 50.1ms\n",
      "image 728/740 /home/haziq/Documents/VIP-Project/Detection/VOC2007/yolo-dataset/images/train/IP009000416.jpg: 640x416 (no detections), 38.5ms\n",
      "image 729/740 /home/haziq/Documents/VIP-Project/Detection/VOC2007/yolo-dataset/images/train/IP009000428.jpg: 640x640 (no detections), 35.4ms\n",
      "image 730/740 /home/haziq/Documents/VIP-Project/Detection/VOC2007/yolo-dataset/images/train/IP009000449.jpg: 640x448 (no detections), 31.8ms\n",
      "image 731/740 /home/haziq/Documents/VIP-Project/Detection/VOC2007/yolo-dataset/images/train/IP009000452.jpg: 640x640 (no detections), 29.5ms\n",
      "image 732/740 /home/haziq/Documents/VIP-Project/Detection/VOC2007/yolo-dataset/images/train/IP009000454.jpg: 576x640 (no detections), 34.9ms\n",
      "image 733/740 /home/haziq/Documents/VIP-Project/Detection/VOC2007/yolo-dataset/images/train/IP009000455.jpg: 544x640 (no detections), 29.6ms\n",
      "image 734/740 /home/haziq/Documents/VIP-Project/Detection/VOC2007/yolo-dataset/images/train/IP009000473.jpg: 544x640 (no detections), 32.0ms\n",
      "image 735/740 /home/haziq/Documents/VIP-Project/Detection/VOC2007/yolo-dataset/images/train/IP009000477.jpg: 608x640 (no detections), 53.0ms\n",
      "image 736/740 /home/haziq/Documents/VIP-Project/Detection/VOC2007/yolo-dataset/images/train/IP009000486.jpg: 640x608 (no detections), 60.9ms\n",
      "image 737/740 /home/haziq/Documents/VIP-Project/Detection/VOC2007/yolo-dataset/images/train/IP009000494.jpg: 608x640 (no detections), 43.4ms\n",
      "image 738/740 /home/haziq/Documents/VIP-Project/Detection/VOC2007/yolo-dataset/images/train/IP009000495.jpg: 480x640 (no detections), 27.0ms\n",
      "image 739/740 /home/haziq/Documents/VIP-Project/Detection/VOC2007/yolo-dataset/images/train/IP009000496.jpg: 480x640 (no detections), 24.8ms\n",
      "image 740/740 /home/haziq/Documents/VIP-Project/Detection/VOC2007/yolo-dataset/images/train/IP009000502.jpg: 384x640 (no detections), 27.8ms\n",
      "Speed: 2.1ms preprocess, 28.7ms inference, 0.6ms postprocess per image at shape (1, 3, 384, 640)\n",
      "Results saved to \u001b[1mruns/detect/train2\u001b[0m\n"
     ]
    }
   ],
   "source": [
    "result=model.predict(\"/home/haziq/Documents/VIP-Project/Detection/VOC2007/yolo-dataset/images/train/\",save=True)"
   ]
  },
  {
   "cell_type": "code",
   "execution_count": 24,
   "metadata": {},
   "outputs": [],
   "source": [
    "boxes = result[0].boxes  # Boxes object for bbox outputs\n",
    "masks = result[0].masks  # Masks object for segmentation masks outputs\n",
    "keypoints = result[0].keypoints  # Keypoints object for pose outputs\n",
    "probs = result[0].probs  # Probs object for classification outputs"
   ]
  },
  {
   "cell_type": "code",
   "execution_count": 8,
   "metadata": {},
   "outputs": [
    {
     "name": "stdout",
     "output_type": "stream",
     "text": [
      "Ultralytics YOLOv8.1.10 🚀 Python-3.11.6 torch-2.2.0+cu121 CPU (Intel Core(TM) i5-6500 3.20GHz)\n",
      "\n",
      "\u001b[34m\u001b[1mPyTorch:\u001b[0m starting from 'runs/detect/train/weights/best.pt' with input shape (1, 3, 640, 640) BCHW and output shape(s) (1, 14, 8400) (83.6 MB)\n",
      "\n",
      "\u001b[34m\u001b[1mTorchScript:\u001b[0m starting export with torch 2.2.0+cu121...\n",
      "\u001b[34m\u001b[1mTorchScript:\u001b[0m export success ✅ 7.1s, saved as 'runs/detect/train/weights/best.torchscript' (167.0 MB)\n",
      "\n",
      "Export complete (10.5s)\n",
      "Results saved to \u001b[1m/home/haziq/Documents/VIP-Project/Detection/VOC2007/runs/detect/train/weights\u001b[0m\n",
      "Predict:         yolo predict task=detect model=runs/detect/train/weights/best.torchscript imgsz=640  \n",
      "Validate:        yolo val task=detect model=runs/detect/train/weights/best.torchscript imgsz=640 data=config.yaml  \n",
      "Visualize:       https://netron.app\n"
     ]
    },
    {
     "data": {
      "text/plain": [
       "'runs/detect/train/weights/best.torchscript'"
      ]
     },
     "execution_count": 8,
     "metadata": {},
     "output_type": "execute_result"
    }
   ],
   "source": [
    "model.export()"
   ]
  },
  {
   "cell_type": "code",
   "execution_count": null,
   "metadata": {},
   "outputs": [],
   "source": []
  }
 ],
 "metadata": {
  "kernelspec": {
   "display_name": "detection-env",
   "language": "python",
   "name": "detection-env"
  },
  "language_info": {
   "codemirror_mode": {
    "name": "ipython",
    "version": 3
   },
   "file_extension": ".py",
   "mimetype": "text/x-python",
   "name": "python",
   "nbconvert_exporter": "python",
   "pygments_lexer": "ipython3",
   "version": "3.11.6"
  }
 },
 "nbformat": 4,
 "nbformat_minor": 2
}
